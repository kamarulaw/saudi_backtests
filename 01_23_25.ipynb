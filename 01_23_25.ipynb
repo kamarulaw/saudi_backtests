{
  "nbformat": 4,
  "nbformat_minor": 0,
  "metadata": {
    "colab": {
      "provenance": []
    },
    "kernelspec": {
      "name": "python3",
      "display_name": "Python 3"
    },
    "language_info": {
      "name": "python"
    }
  },
  "cells": [
    {
      "cell_type": "code",
      "execution_count": 1,
      "metadata": {
        "colab": {
          "base_uri": "https://localhost:8080/"
        },
        "id": "WDDBA1KOTe4z",
        "outputId": "0a078cbb-93c9-426e-b960-a4cf755209ec"
      },
      "outputs": [
        {
          "output_type": "stream",
          "name": "stdout",
          "text": [
            "Requirement already satisfied: yfinance in /usr/local/lib/python3.11/dist-packages (0.2.51)\n",
            "Requirement already satisfied: pandas>=1.3.0 in /usr/local/lib/python3.11/dist-packages (from yfinance) (2.2.2)\n",
            "Requirement already satisfied: numpy>=1.16.5 in /usr/local/lib/python3.11/dist-packages (from yfinance) (1.26.4)\n",
            "Requirement already satisfied: requests>=2.31 in /usr/local/lib/python3.11/dist-packages (from yfinance) (2.32.3)\n",
            "Requirement already satisfied: multitasking>=0.0.7 in /usr/local/lib/python3.11/dist-packages (from yfinance) (0.0.11)\n",
            "Requirement already satisfied: lxml>=4.9.1 in /usr/local/lib/python3.11/dist-packages (from yfinance) (5.3.0)\n",
            "Requirement already satisfied: platformdirs>=2.0.0 in /usr/local/lib/python3.11/dist-packages (from yfinance) (4.3.6)\n",
            "Requirement already satisfied: pytz>=2022.5 in /usr/local/lib/python3.11/dist-packages (from yfinance) (2024.2)\n",
            "Requirement already satisfied: frozendict>=2.3.4 in /usr/local/lib/python3.11/dist-packages (from yfinance) (2.4.6)\n",
            "Requirement already satisfied: peewee>=3.16.2 in /usr/local/lib/python3.11/dist-packages (from yfinance) (3.17.8)\n",
            "Requirement already satisfied: beautifulsoup4>=4.11.1 in /usr/local/lib/python3.11/dist-packages (from yfinance) (4.12.3)\n",
            "Requirement already satisfied: html5lib>=1.1 in /usr/local/lib/python3.11/dist-packages (from yfinance) (1.1)\n",
            "Requirement already satisfied: soupsieve>1.2 in /usr/local/lib/python3.11/dist-packages (from beautifulsoup4>=4.11.1->yfinance) (2.6)\n",
            "Requirement already satisfied: six>=1.9 in /usr/local/lib/python3.11/dist-packages (from html5lib>=1.1->yfinance) (1.17.0)\n",
            "Requirement already satisfied: webencodings in /usr/local/lib/python3.11/dist-packages (from html5lib>=1.1->yfinance) (0.5.1)\n",
            "Requirement already satisfied: python-dateutil>=2.8.2 in /usr/local/lib/python3.11/dist-packages (from pandas>=1.3.0->yfinance) (2.8.2)\n",
            "Requirement already satisfied: tzdata>=2022.7 in /usr/local/lib/python3.11/dist-packages (from pandas>=1.3.0->yfinance) (2024.2)\n",
            "Requirement already satisfied: charset-normalizer<4,>=2 in /usr/local/lib/python3.11/dist-packages (from requests>=2.31->yfinance) (3.4.1)\n",
            "Requirement already satisfied: idna<4,>=2.5 in /usr/local/lib/python3.11/dist-packages (from requests>=2.31->yfinance) (3.10)\n",
            "Requirement already satisfied: urllib3<3,>=1.21.1 in /usr/local/lib/python3.11/dist-packages (from requests>=2.31->yfinance) (2.3.0)\n",
            "Requirement already satisfied: certifi>=2017.4.17 in /usr/local/lib/python3.11/dist-packages (from requests>=2.31->yfinance) (2024.12.14)\n"
          ]
        }
      ],
      "source": [
        "!pip install yfinance"
      ]
    },
    {
      "cell_type": "code",
      "source": [
        "import numpy as np\n",
        "import pandas as pd\n",
        "import yfinance as yf"
      ],
      "metadata": {
        "id": "GoGJLmytTh1Q"
      },
      "execution_count": 184,
      "outputs": []
    },
    {
      "cell_type": "code",
      "source": [
        "#ALGORITHM OUTLINE\n",
        "# (1) Find current_price for stock of interest (use stocks most recent close price)\n",
        "# (2) Check if .93*current_price \\in [low,high] for stock of interest for the last week (last five days)"
      ],
      "metadata": {
        "id": "gr8EvEOUaPa3"
      },
      "execution_count": 83,
      "outputs": []
    },
    {
      "cell_type": "code",
      "source": [
        "# algorithm for single date\n",
        "# dat = yf.Ticker(\"^TASI.SR\")\n",
        "# history_for_lastweek_5d = dat.history(period='5d')\n",
        "# low = history_for_lastweek_5d[\"Low\"].min()\n",
        "# high = history_for_lastweek_5d[\"High\"].max()\n",
        "# current_price = history_for_lastweek_5d[\"Close\"][0]\n",
        "# price_of_interest = .93*current_price\n",
        "# price_of_interest_within_last_week = low <= price_of_interest and price_of_interest <= high"
      ],
      "metadata": {
        "colab": {
          "base_uri": "https://localhost:8080/"
        },
        "id": "tigMQIXEgtDC",
        "outputId": "102b7bd1-68b8-4c6b-e2f4-cfa06dd725a1"
      },
      "execution_count": 70,
      "outputs": [
        {
          "output_type": "stream",
          "name": "stderr",
          "text": [
            "<ipython-input-70-2770be6dda2d>:5: FutureWarning: Series.__getitem__ treating keys as positions is deprecated. In a future version, integer keys will always be treated as labels (consistent with DataFrame behavior). To access a value by position, use `ser.iloc[pos]`\n",
            "  current_price = history_for_lastweek_5d[\"Close\"][0]\n"
          ]
        }
      ]
    },
    {
      "cell_type": "code",
      "source": [
        "# algorithm for every date between start date and end date\n",
        "data = yf.download(\"^TASI.SR\", start=\"2010-01-01\", end=\"2025-01-23\")\n",
        "\n",
        "data[\"prv_low_1\"] = data[\"Low\"].shift(1)\n",
        "data[\"prv_low_2\"] = data[\"Low\"].shift(2)\n",
        "data[\"prv_low_3\"] = data[\"Low\"].shift(3)\n",
        "data[\"prv_low_4\"] = data[\"Low\"].shift(4)\n",
        "data[\"prv_low_5\"] = data[\"Low\"].shift(5)\n",
        "data[\"Low_Last_5d\"] = data[[\"prv_low_1\", \"prv_low_2\",\"prv_low_3\",\"prv_low_4\",\"prv_low_5\"]].values.min(1)\n",
        "data = data.drop([\"prv_low_1\", \"prv_low_2\", \"prv_low_3\", \"prv_low_4\", \"prv_low_5\"], axis=1)\n",
        "\n",
        "data['prv_high_1'] = data[\"High\"].shift(1)\n",
        "data['prv_high_2'] = data[\"High\"].shift(2)\n",
        "data['prv_high_3'] = data[\"High\"].shift(3)\n",
        "data['prv_high_4'] = data[\"High\"].shift(4)\n",
        "data['prv_high_5'] = data[\"High\"].shift(5)\n",
        "data[\"High_Last_5d\"] = data[[\"prv_high_1\", \"prv_high_2\",\"prv_high_3\",\"prv_high_4\",\"prv_high_5\"]].values.max(1)\n",
        "data = data.drop([\"prv_high_1\", \"prv_high_2\", \"prv_high_3\", \"prv_high_4\", \"prv_high_5\"], axis=1)\n",
        "\n",
        "data[\"seven_percent_of_close_price\"] = .93*data[\"Close\"]\n",
        "data[\"Close\"] = 1*data[\"Close\"]\n",
        "data[\"seven_percent_of_close_price_within_last_five_days\"] = np.where((data['Low_Last_5d'] <= data['seven_percent_of_close_price']) & (data['seven_percent_of_close_price'] <= data['High_Last_5d']), True, False)\n",
        "data[\"Last_Close\"] = data[\"Close\"].shift(1)\n",
        "data[\"close_diff\"] = data[\"Close\"].values.reshape(data.shape[0]) - data[\"Last_Close\"].values.reshape(data.shape[0])\n",
        "data[\"up_from_yesterday\"] = np.where((data[\"close_diff\"] > 0), True, False)\n",
        "data[\"buy\"] = data[\"seven_percent_of_close_price_within_last_five_days\"] & data[\"up_from_yesterday\"]\n",
        "data = data.drop([\"Last_Close\",\"close_diff\",\"seven_percent_of_close_price\"], axis=1)\n",
        "data.head(15)"
      ],
      "metadata": {
        "colab": {
          "base_uri": "https://localhost:8080/",
          "height": 620
        },
        "id": "f_ahYebVkHrH",
        "outputId": "012b036a-cea0-44c1-9d2f-af86e40ae72b"
      },
      "execution_count": 288,
      "outputs": [
        {
          "output_type": "stream",
          "name": "stderr",
          "text": [
            "\r[*********************100%***********************]  1 of 1 completed\n"
          ]
        },
        {
          "output_type": "execute_result",
          "data": {
            "text/plain": [
              "Price             Close         High          Low         Open     Volume  \\\n",
              "Ticker         ^TASI.SR     ^TASI.SR     ^TASI.SR     ^TASI.SR   ^TASI.SR   \n",
              "Date                                                                        \n",
              "2010-01-04  6201.759766  6202.319824  6134.720215  6149.910156   80335000   \n",
              "2010-01-05  6239.100098  6254.029785  6201.759766  6201.759766  102019700   \n",
              "2010-01-06  6260.899902  6269.810059  6232.709961  6239.100098  107294800   \n",
              "2010-01-07  6260.899902  6260.899902  6260.899902  6260.899902          0   \n",
              "2010-01-11  6291.390137  6318.140137  6248.620117  6318.140137  103442400   \n",
              "2010-01-12  6266.259766  6291.390137  6238.649902  6291.390137  139063700   \n",
              "2010-01-13  6262.830078  6304.049805  6242.209961  6266.259766  185619400   \n",
              "2010-01-14  6262.830078  6262.830078  6262.830078  6262.830078          0   \n",
              "2010-01-18  6409.040039  6424.680176  6373.700195  6393.649902  225897800   \n",
              "2010-01-19  6368.799805  6410.040039  6360.000000  6409.040039  180906500   \n",
              "2010-01-20  6382.040039  6423.520020  6368.799805  6368.799805  176579000   \n",
              "2010-01-21  6382.040039  6382.040039  6382.040039  6382.040039          0   \n",
              "2010-01-25  6315.759766  6342.310059  6300.870117  6301.939941  154344000   \n",
              "2010-01-26  6256.160156  6321.770020  6248.819824  6315.759766  138394300   \n",
              "2010-01-27  6252.709961  6262.120117  6222.549805  6256.160156  139346800   \n",
              "\n",
              "Price       Low_Last_5d High_Last_5d  \\\n",
              "Ticker                                 \n",
              "Date                                   \n",
              "2010-01-04          NaN          NaN   \n",
              "2010-01-05          NaN          NaN   \n",
              "2010-01-06          NaN          NaN   \n",
              "2010-01-07          NaN          NaN   \n",
              "2010-01-11          NaN          NaN   \n",
              "2010-01-12  6134.720215  6318.140137   \n",
              "2010-01-13  6201.759766  6318.140137   \n",
              "2010-01-14  6232.709961  6318.140137   \n",
              "2010-01-18  6238.649902  6318.140137   \n",
              "2010-01-19  6238.649902  6424.680176   \n",
              "2010-01-20  6238.649902  6424.680176   \n",
              "2010-01-21  6242.209961  6424.680176   \n",
              "2010-01-25  6262.830078  6424.680176   \n",
              "2010-01-26  6300.870117  6424.680176   \n",
              "2010-01-27  6248.819824  6423.520020   \n",
              "\n",
              "Price      seven_percent_of_close_price_within_last_five_days  \\\n",
              "Ticker                                                          \n",
              "Date                                                            \n",
              "2010-01-04                                              False   \n",
              "2010-01-05                                              False   \n",
              "2010-01-06                                              False   \n",
              "2010-01-07                                              False   \n",
              "2010-01-11                                              False   \n",
              "2010-01-12                                              False   \n",
              "2010-01-13                                              False   \n",
              "2010-01-14                                              False   \n",
              "2010-01-18                                              False   \n",
              "2010-01-19                                              False   \n",
              "2010-01-20                                              False   \n",
              "2010-01-21                                              False   \n",
              "2010-01-25                                              False   \n",
              "2010-01-26                                              False   \n",
              "2010-01-27                                              False   \n",
              "\n",
              "Price      up_from_yesterday    buy  \n",
              "Ticker                               \n",
              "Date                                 \n",
              "2010-01-04             False  False  \n",
              "2010-01-05              True  False  \n",
              "2010-01-06              True  False  \n",
              "2010-01-07             False  False  \n",
              "2010-01-11              True  False  \n",
              "2010-01-12             False  False  \n",
              "2010-01-13             False  False  \n",
              "2010-01-14             False  False  \n",
              "2010-01-18              True  False  \n",
              "2010-01-19             False  False  \n",
              "2010-01-20              True  False  \n",
              "2010-01-21             False  False  \n",
              "2010-01-25             False  False  \n",
              "2010-01-26             False  False  \n",
              "2010-01-27             False  False  "
            ],
            "text/html": [
              "\n",
              "  <div id=\"df-b933e28e-4976-4426-a8cf-1178d70195d4\" class=\"colab-df-container\">\n",
              "    <div>\n",
              "<style scoped>\n",
              "    .dataframe tbody tr th:only-of-type {\n",
              "        vertical-align: middle;\n",
              "    }\n",
              "\n",
              "    .dataframe tbody tr th {\n",
              "        vertical-align: top;\n",
              "    }\n",
              "\n",
              "    .dataframe thead tr th {\n",
              "        text-align: left;\n",
              "    }\n",
              "\n",
              "    .dataframe thead tr:last-of-type th {\n",
              "        text-align: right;\n",
              "    }\n",
              "</style>\n",
              "<table border=\"1\" class=\"dataframe\">\n",
              "  <thead>\n",
              "    <tr>\n",
              "      <th>Price</th>\n",
              "      <th>Close</th>\n",
              "      <th>High</th>\n",
              "      <th>Low</th>\n",
              "      <th>Open</th>\n",
              "      <th>Volume</th>\n",
              "      <th>Low_Last_5d</th>\n",
              "      <th>High_Last_5d</th>\n",
              "      <th>seven_percent_of_close_price_within_last_five_days</th>\n",
              "      <th>up_from_yesterday</th>\n",
              "      <th>buy</th>\n",
              "    </tr>\n",
              "    <tr>\n",
              "      <th>Ticker</th>\n",
              "      <th>^TASI.SR</th>\n",
              "      <th>^TASI.SR</th>\n",
              "      <th>^TASI.SR</th>\n",
              "      <th>^TASI.SR</th>\n",
              "      <th>^TASI.SR</th>\n",
              "      <th></th>\n",
              "      <th></th>\n",
              "      <th></th>\n",
              "      <th></th>\n",
              "      <th></th>\n",
              "    </tr>\n",
              "    <tr>\n",
              "      <th>Date</th>\n",
              "      <th></th>\n",
              "      <th></th>\n",
              "      <th></th>\n",
              "      <th></th>\n",
              "      <th></th>\n",
              "      <th></th>\n",
              "      <th></th>\n",
              "      <th></th>\n",
              "      <th></th>\n",
              "      <th></th>\n",
              "    </tr>\n",
              "  </thead>\n",
              "  <tbody>\n",
              "    <tr>\n",
              "      <th>2010-01-04</th>\n",
              "      <td>6201.759766</td>\n",
              "      <td>6202.319824</td>\n",
              "      <td>6134.720215</td>\n",
              "      <td>6149.910156</td>\n",
              "      <td>80335000</td>\n",
              "      <td>NaN</td>\n",
              "      <td>NaN</td>\n",
              "      <td>False</td>\n",
              "      <td>False</td>\n",
              "      <td>False</td>\n",
              "    </tr>\n",
              "    <tr>\n",
              "      <th>2010-01-05</th>\n",
              "      <td>6239.100098</td>\n",
              "      <td>6254.029785</td>\n",
              "      <td>6201.759766</td>\n",
              "      <td>6201.759766</td>\n",
              "      <td>102019700</td>\n",
              "      <td>NaN</td>\n",
              "      <td>NaN</td>\n",
              "      <td>False</td>\n",
              "      <td>True</td>\n",
              "      <td>False</td>\n",
              "    </tr>\n",
              "    <tr>\n",
              "      <th>2010-01-06</th>\n",
              "      <td>6260.899902</td>\n",
              "      <td>6269.810059</td>\n",
              "      <td>6232.709961</td>\n",
              "      <td>6239.100098</td>\n",
              "      <td>107294800</td>\n",
              "      <td>NaN</td>\n",
              "      <td>NaN</td>\n",
              "      <td>False</td>\n",
              "      <td>True</td>\n",
              "      <td>False</td>\n",
              "    </tr>\n",
              "    <tr>\n",
              "      <th>2010-01-07</th>\n",
              "      <td>6260.899902</td>\n",
              "      <td>6260.899902</td>\n",
              "      <td>6260.899902</td>\n",
              "      <td>6260.899902</td>\n",
              "      <td>0</td>\n",
              "      <td>NaN</td>\n",
              "      <td>NaN</td>\n",
              "      <td>False</td>\n",
              "      <td>False</td>\n",
              "      <td>False</td>\n",
              "    </tr>\n",
              "    <tr>\n",
              "      <th>2010-01-11</th>\n",
              "      <td>6291.390137</td>\n",
              "      <td>6318.140137</td>\n",
              "      <td>6248.620117</td>\n",
              "      <td>6318.140137</td>\n",
              "      <td>103442400</td>\n",
              "      <td>NaN</td>\n",
              "      <td>NaN</td>\n",
              "      <td>False</td>\n",
              "      <td>True</td>\n",
              "      <td>False</td>\n",
              "    </tr>\n",
              "    <tr>\n",
              "      <th>2010-01-12</th>\n",
              "      <td>6266.259766</td>\n",
              "      <td>6291.390137</td>\n",
              "      <td>6238.649902</td>\n",
              "      <td>6291.390137</td>\n",
              "      <td>139063700</td>\n",
              "      <td>6134.720215</td>\n",
              "      <td>6318.140137</td>\n",
              "      <td>False</td>\n",
              "      <td>False</td>\n",
              "      <td>False</td>\n",
              "    </tr>\n",
              "    <tr>\n",
              "      <th>2010-01-13</th>\n",
              "      <td>6262.830078</td>\n",
              "      <td>6304.049805</td>\n",
              "      <td>6242.209961</td>\n",
              "      <td>6266.259766</td>\n",
              "      <td>185619400</td>\n",
              "      <td>6201.759766</td>\n",
              "      <td>6318.140137</td>\n",
              "      <td>False</td>\n",
              "      <td>False</td>\n",
              "      <td>False</td>\n",
              "    </tr>\n",
              "    <tr>\n",
              "      <th>2010-01-14</th>\n",
              "      <td>6262.830078</td>\n",
              "      <td>6262.830078</td>\n",
              "      <td>6262.830078</td>\n",
              "      <td>6262.830078</td>\n",
              "      <td>0</td>\n",
              "      <td>6232.709961</td>\n",
              "      <td>6318.140137</td>\n",
              "      <td>False</td>\n",
              "      <td>False</td>\n",
              "      <td>False</td>\n",
              "    </tr>\n",
              "    <tr>\n",
              "      <th>2010-01-18</th>\n",
              "      <td>6409.040039</td>\n",
              "      <td>6424.680176</td>\n",
              "      <td>6373.700195</td>\n",
              "      <td>6393.649902</td>\n",
              "      <td>225897800</td>\n",
              "      <td>6238.649902</td>\n",
              "      <td>6318.140137</td>\n",
              "      <td>False</td>\n",
              "      <td>True</td>\n",
              "      <td>False</td>\n",
              "    </tr>\n",
              "    <tr>\n",
              "      <th>2010-01-19</th>\n",
              "      <td>6368.799805</td>\n",
              "      <td>6410.040039</td>\n",
              "      <td>6360.000000</td>\n",
              "      <td>6409.040039</td>\n",
              "      <td>180906500</td>\n",
              "      <td>6238.649902</td>\n",
              "      <td>6424.680176</td>\n",
              "      <td>False</td>\n",
              "      <td>False</td>\n",
              "      <td>False</td>\n",
              "    </tr>\n",
              "    <tr>\n",
              "      <th>2010-01-20</th>\n",
              "      <td>6382.040039</td>\n",
              "      <td>6423.520020</td>\n",
              "      <td>6368.799805</td>\n",
              "      <td>6368.799805</td>\n",
              "      <td>176579000</td>\n",
              "      <td>6238.649902</td>\n",
              "      <td>6424.680176</td>\n",
              "      <td>False</td>\n",
              "      <td>True</td>\n",
              "      <td>False</td>\n",
              "    </tr>\n",
              "    <tr>\n",
              "      <th>2010-01-21</th>\n",
              "      <td>6382.040039</td>\n",
              "      <td>6382.040039</td>\n",
              "      <td>6382.040039</td>\n",
              "      <td>6382.040039</td>\n",
              "      <td>0</td>\n",
              "      <td>6242.209961</td>\n",
              "      <td>6424.680176</td>\n",
              "      <td>False</td>\n",
              "      <td>False</td>\n",
              "      <td>False</td>\n",
              "    </tr>\n",
              "    <tr>\n",
              "      <th>2010-01-25</th>\n",
              "      <td>6315.759766</td>\n",
              "      <td>6342.310059</td>\n",
              "      <td>6300.870117</td>\n",
              "      <td>6301.939941</td>\n",
              "      <td>154344000</td>\n",
              "      <td>6262.830078</td>\n",
              "      <td>6424.680176</td>\n",
              "      <td>False</td>\n",
              "      <td>False</td>\n",
              "      <td>False</td>\n",
              "    </tr>\n",
              "    <tr>\n",
              "      <th>2010-01-26</th>\n",
              "      <td>6256.160156</td>\n",
              "      <td>6321.770020</td>\n",
              "      <td>6248.819824</td>\n",
              "      <td>6315.759766</td>\n",
              "      <td>138394300</td>\n",
              "      <td>6300.870117</td>\n",
              "      <td>6424.680176</td>\n",
              "      <td>False</td>\n",
              "      <td>False</td>\n",
              "      <td>False</td>\n",
              "    </tr>\n",
              "    <tr>\n",
              "      <th>2010-01-27</th>\n",
              "      <td>6252.709961</td>\n",
              "      <td>6262.120117</td>\n",
              "      <td>6222.549805</td>\n",
              "      <td>6256.160156</td>\n",
              "      <td>139346800</td>\n",
              "      <td>6248.819824</td>\n",
              "      <td>6423.520020</td>\n",
              "      <td>False</td>\n",
              "      <td>False</td>\n",
              "      <td>False</td>\n",
              "    </tr>\n",
              "  </tbody>\n",
              "</table>\n",
              "</div>\n",
              "    <div class=\"colab-df-buttons\">\n",
              "\n",
              "  <div class=\"colab-df-container\">\n",
              "    <button class=\"colab-df-convert\" onclick=\"convertToInteractive('df-b933e28e-4976-4426-a8cf-1178d70195d4')\"\n",
              "            title=\"Convert this dataframe to an interactive table.\"\n",
              "            style=\"display:none;\">\n",
              "\n",
              "  <svg xmlns=\"http://www.w3.org/2000/svg\" height=\"24px\" viewBox=\"0 -960 960 960\">\n",
              "    <path d=\"M120-120v-720h720v720H120Zm60-500h600v-160H180v160Zm220 220h160v-160H400v160Zm0 220h160v-160H400v160ZM180-400h160v-160H180v160Zm440 0h160v-160H620v160ZM180-180h160v-160H180v160Zm440 0h160v-160H620v160Z\"/>\n",
              "  </svg>\n",
              "    </button>\n",
              "\n",
              "  <style>\n",
              "    .colab-df-container {\n",
              "      display:flex;\n",
              "      gap: 12px;\n",
              "    }\n",
              "\n",
              "    .colab-df-convert {\n",
              "      background-color: #E8F0FE;\n",
              "      border: none;\n",
              "      border-radius: 50%;\n",
              "      cursor: pointer;\n",
              "      display: none;\n",
              "      fill: #1967D2;\n",
              "      height: 32px;\n",
              "      padding: 0 0 0 0;\n",
              "      width: 32px;\n",
              "    }\n",
              "\n",
              "    .colab-df-convert:hover {\n",
              "      background-color: #E2EBFA;\n",
              "      box-shadow: 0px 1px 2px rgba(60, 64, 67, 0.3), 0px 1px 3px 1px rgba(60, 64, 67, 0.15);\n",
              "      fill: #174EA6;\n",
              "    }\n",
              "\n",
              "    .colab-df-buttons div {\n",
              "      margin-bottom: 4px;\n",
              "    }\n",
              "\n",
              "    [theme=dark] .colab-df-convert {\n",
              "      background-color: #3B4455;\n",
              "      fill: #D2E3FC;\n",
              "    }\n",
              "\n",
              "    [theme=dark] .colab-df-convert:hover {\n",
              "      background-color: #434B5C;\n",
              "      box-shadow: 0px 1px 3px 1px rgba(0, 0, 0, 0.15);\n",
              "      filter: drop-shadow(0px 1px 2px rgba(0, 0, 0, 0.3));\n",
              "      fill: #FFFFFF;\n",
              "    }\n",
              "  </style>\n",
              "\n",
              "    <script>\n",
              "      const buttonEl =\n",
              "        document.querySelector('#df-b933e28e-4976-4426-a8cf-1178d70195d4 button.colab-df-convert');\n",
              "      buttonEl.style.display =\n",
              "        google.colab.kernel.accessAllowed ? 'block' : 'none';\n",
              "\n",
              "      async function convertToInteractive(key) {\n",
              "        const element = document.querySelector('#df-b933e28e-4976-4426-a8cf-1178d70195d4');\n",
              "        const dataTable =\n",
              "          await google.colab.kernel.invokeFunction('convertToInteractive',\n",
              "                                                    [key], {});\n",
              "        if (!dataTable) return;\n",
              "\n",
              "        const docLinkHtml = 'Like what you see? Visit the ' +\n",
              "          '<a target=\"_blank\" href=https://colab.research.google.com/notebooks/data_table.ipynb>data table notebook</a>'\n",
              "          + ' to learn more about interactive tables.';\n",
              "        element.innerHTML = '';\n",
              "        dataTable['output_type'] = 'display_data';\n",
              "        await google.colab.output.renderOutput(dataTable, element);\n",
              "        const docLink = document.createElement('div');\n",
              "        docLink.innerHTML = docLinkHtml;\n",
              "        element.appendChild(docLink);\n",
              "      }\n",
              "    </script>\n",
              "  </div>\n",
              "\n",
              "\n",
              "<div id=\"df-c342855a-393f-4537-b72a-7133d0011e4d\">\n",
              "  <button class=\"colab-df-quickchart\" onclick=\"quickchart('df-c342855a-393f-4537-b72a-7133d0011e4d')\"\n",
              "            title=\"Suggest charts\"\n",
              "            style=\"display:none;\">\n",
              "\n",
              "<svg xmlns=\"http://www.w3.org/2000/svg\" height=\"24px\"viewBox=\"0 0 24 24\"\n",
              "     width=\"24px\">\n",
              "    <g>\n",
              "        <path d=\"M19 3H5c-1.1 0-2 .9-2 2v14c0 1.1.9 2 2 2h14c1.1 0 2-.9 2-2V5c0-1.1-.9-2-2-2zM9 17H7v-7h2v7zm4 0h-2V7h2v10zm4 0h-2v-4h2v4z\"/>\n",
              "    </g>\n",
              "</svg>\n",
              "  </button>\n",
              "\n",
              "<style>\n",
              "  .colab-df-quickchart {\n",
              "      --bg-color: #E8F0FE;\n",
              "      --fill-color: #1967D2;\n",
              "      --hover-bg-color: #E2EBFA;\n",
              "      --hover-fill-color: #174EA6;\n",
              "      --disabled-fill-color: #AAA;\n",
              "      --disabled-bg-color: #DDD;\n",
              "  }\n",
              "\n",
              "  [theme=dark] .colab-df-quickchart {\n",
              "      --bg-color: #3B4455;\n",
              "      --fill-color: #D2E3FC;\n",
              "      --hover-bg-color: #434B5C;\n",
              "      --hover-fill-color: #FFFFFF;\n",
              "      --disabled-bg-color: #3B4455;\n",
              "      --disabled-fill-color: #666;\n",
              "  }\n",
              "\n",
              "  .colab-df-quickchart {\n",
              "    background-color: var(--bg-color);\n",
              "    border: none;\n",
              "    border-radius: 50%;\n",
              "    cursor: pointer;\n",
              "    display: none;\n",
              "    fill: var(--fill-color);\n",
              "    height: 32px;\n",
              "    padding: 0;\n",
              "    width: 32px;\n",
              "  }\n",
              "\n",
              "  .colab-df-quickchart:hover {\n",
              "    background-color: var(--hover-bg-color);\n",
              "    box-shadow: 0 1px 2px rgba(60, 64, 67, 0.3), 0 1px 3px 1px rgba(60, 64, 67, 0.15);\n",
              "    fill: var(--button-hover-fill-color);\n",
              "  }\n",
              "\n",
              "  .colab-df-quickchart-complete:disabled,\n",
              "  .colab-df-quickchart-complete:disabled:hover {\n",
              "    background-color: var(--disabled-bg-color);\n",
              "    fill: var(--disabled-fill-color);\n",
              "    box-shadow: none;\n",
              "  }\n",
              "\n",
              "  .colab-df-spinner {\n",
              "    border: 2px solid var(--fill-color);\n",
              "    border-color: transparent;\n",
              "    border-bottom-color: var(--fill-color);\n",
              "    animation:\n",
              "      spin 1s steps(1) infinite;\n",
              "  }\n",
              "\n",
              "  @keyframes spin {\n",
              "    0% {\n",
              "      border-color: transparent;\n",
              "      border-bottom-color: var(--fill-color);\n",
              "      border-left-color: var(--fill-color);\n",
              "    }\n",
              "    20% {\n",
              "      border-color: transparent;\n",
              "      border-left-color: var(--fill-color);\n",
              "      border-top-color: var(--fill-color);\n",
              "    }\n",
              "    30% {\n",
              "      border-color: transparent;\n",
              "      border-left-color: var(--fill-color);\n",
              "      border-top-color: var(--fill-color);\n",
              "      border-right-color: var(--fill-color);\n",
              "    }\n",
              "    40% {\n",
              "      border-color: transparent;\n",
              "      border-right-color: var(--fill-color);\n",
              "      border-top-color: var(--fill-color);\n",
              "    }\n",
              "    60% {\n",
              "      border-color: transparent;\n",
              "      border-right-color: var(--fill-color);\n",
              "    }\n",
              "    80% {\n",
              "      border-color: transparent;\n",
              "      border-right-color: var(--fill-color);\n",
              "      border-bottom-color: var(--fill-color);\n",
              "    }\n",
              "    90% {\n",
              "      border-color: transparent;\n",
              "      border-bottom-color: var(--fill-color);\n",
              "    }\n",
              "  }\n",
              "</style>\n",
              "\n",
              "  <script>\n",
              "    async function quickchart(key) {\n",
              "      const quickchartButtonEl =\n",
              "        document.querySelector('#' + key + ' button');\n",
              "      quickchartButtonEl.disabled = true;  // To prevent multiple clicks.\n",
              "      quickchartButtonEl.classList.add('colab-df-spinner');\n",
              "      try {\n",
              "        const charts = await google.colab.kernel.invokeFunction(\n",
              "            'suggestCharts', [key], {});\n",
              "      } catch (error) {\n",
              "        console.error('Error during call to suggestCharts:', error);\n",
              "      }\n",
              "      quickchartButtonEl.classList.remove('colab-df-spinner');\n",
              "      quickchartButtonEl.classList.add('colab-df-quickchart-complete');\n",
              "    }\n",
              "    (() => {\n",
              "      let quickchartButtonEl =\n",
              "        document.querySelector('#df-c342855a-393f-4537-b72a-7133d0011e4d button');\n",
              "      quickchartButtonEl.style.display =\n",
              "        google.colab.kernel.accessAllowed ? 'block' : 'none';\n",
              "    })();\n",
              "  </script>\n",
              "</div>\n",
              "\n",
              "    </div>\n",
              "  </div>\n"
            ],
            "application/vnd.google.colaboratory.intrinsic+json": {
              "type": "dataframe",
              "variable_name": "data",
              "summary": "{\n  \"name\": \"data\",\n  \"rows\": 3295,\n  \"fields\": [\n    {\n      \"column\": [\n        \"Date\",\n        \"\"\n      ],\n      \"properties\": {\n        \"dtype\": \"date\",\n        \"min\": \"2010-01-04 00:00:00\",\n        \"max\": \"2025-01-22 00:00:00\",\n        \"num_unique_values\": 3295,\n        \"samples\": [\n          \"2024-04-02 00:00:00\",\n          \"2024-07-14 00:00:00\",\n          \"2024-04-03 00:00:00\"\n        ],\n        \"semantic_type\": \"\",\n        \"description\": \"\"\n      }\n    },\n    {\n      \"column\": [\n        \"Close\",\n        \"^TASI.SR\"\n      ],\n      \"properties\": {\n        \"dtype\": \"number\",\n        \"std\": 2079.1118145024934,\n        \"min\": 5323.27001953125,\n        \"max\": 13820.349609375,\n        \"num_unique_values\": 3107,\n        \"samples\": [\n          6668.1298828125,\n          6398.72021484375,\n          10459.3603515625\n        ],\n        \"semantic_type\": \"\",\n        \"description\": \"\"\n      }\n    },\n    {\n      \"column\": [\n        \"High\",\n        \"^TASI.SR\"\n      ],\n      \"properties\": {\n        \"dtype\": \"number\",\n        \"std\": 2089.390140108518,\n        \"min\": 5323.27001953125,\n        \"max\": 13949.1298828125,\n        \"num_unique_values\": 3257,\n        \"samples\": [\n          10989.76953125,\n          6093.240234375,\n          8943.849609375\n        ],\n        \"semantic_type\": \"\",\n        \"description\": \"\"\n      }\n    },\n    {\n      \"column\": [\n        \"Low\",\n        \"^TASI.SR\"\n      ],\n      \"properties\": {\n        \"dtype\": \"number\",\n        \"std\": 2070.53032258567,\n        \"min\": 5231.509765625,\n        \"max\": 13812.6298828125,\n        \"num_unique_values\": 3273,\n        \"samples\": [\n          6975.27001953125,\n          12037.8095703125,\n          10624.3203125\n        ],\n        \"semantic_type\": \"\",\n        \"description\": \"\"\n      }\n    },\n    {\n      \"column\": [\n        \"Open\",\n        \"^TASI.SR\"\n      ],\n      \"properties\": {\n        \"dtype\": \"number\",\n        \"std\": 2080.6901202077993,\n        \"min\": 5323.27001953125,\n        \"max\": 13853.0595703125,\n        \"num_unique_values\": 3281,\n        \"samples\": [\n          11105.7099609375,\n          10332.2099609375,\n          8158.06005859375\n        ],\n        \"semantic_type\": \"\",\n        \"description\": \"\"\n      }\n    },\n    {\n      \"column\": [\n        \"Volume\",\n        \"^TASI.SR\"\n      ],\n      \"properties\": {\n        \"dtype\": \"number\",\n        \"std\": 145532019,\n        \"min\": 0,\n        \"max\": 2348074000,\n        \"num_unique_values\": 3111,\n        \"samples\": [\n          304902100,\n          138028700,\n          216555000\n        ],\n        \"semantic_type\": \"\",\n        \"description\": \"\"\n      }\n    },\n    {\n      \"column\": [\n        \"Low_Last_5d\",\n        \"\"\n      ],\n      \"properties\": {\n        \"dtype\": \"number\",\n        \"std\": 2056.7505290838126,\n        \"min\": 5231.509765625,\n        \"max\": 13462.509765625,\n        \"num_unique_values\": 1829,\n        \"samples\": [\n          7265.31005859375,\n          9061.7998046875,\n          10650.080078125\n        ],\n        \"semantic_type\": \"\",\n        \"description\": \"\"\n      }\n    },\n    {\n      \"column\": [\n        \"High_Last_5d\",\n        \"\"\n      ],\n      \"properties\": {\n        \"dtype\": \"number\",\n        \"std\": 2097.086468557519,\n        \"min\": 5656.64990234375,\n        \"max\": 13949.1298828125,\n        \"num_unique_values\": 1806,\n        \"samples\": [\n          11132.33984375,\n          6264.009765625,\n          5679.56005859375\n        ],\n        \"semantic_type\": \"\",\n        \"description\": \"\"\n      }\n    },\n    {\n      \"column\": [\n        \"seven_percent_of_close_price_within_last_five_days\",\n        \"\"\n      ],\n      \"properties\": {\n        \"dtype\": \"boolean\",\n        \"num_unique_values\": 2,\n        \"samples\": [\n          true,\n          false\n        ],\n        \"semantic_type\": \"\",\n        \"description\": \"\"\n      }\n    },\n    {\n      \"column\": [\n        \"up_from_yesterday\",\n        \"\"\n      ],\n      \"properties\": {\n        \"dtype\": \"boolean\",\n        \"num_unique_values\": 2,\n        \"samples\": [\n          true,\n          false\n        ],\n        \"semantic_type\": \"\",\n        \"description\": \"\"\n      }\n    },\n    {\n      \"column\": [\n        \"buy\",\n        \"\"\n      ],\n      \"properties\": {\n        \"dtype\": \"boolean\",\n        \"num_unique_values\": 2,\n        \"samples\": [\n          true,\n          false\n        ],\n        \"semantic_type\": \"\",\n        \"description\": \"\"\n      }\n    }\n  ]\n}"
            }
          },
          "metadata": {},
          "execution_count": 288
        }
      ]
    },
    {
      "cell_type": "code",
      "source": [
        "print(np.where((data['Low_Last_5d'] <= data['seven_percent_of_close_price']) & (data['seven_percent_of_close_price'] <= data['High_Last_5d']), True, False))\n",
        "print(np.where((data['Low_Last_5d'] <= data['seven_percent_of_close_price']) & (data['seven_percent_of_close_price'] <= data['High_Last_5d']), True, False).shape)"
      ],
      "metadata": {
        "colab": {
          "base_uri": "https://localhost:8080/"
        },
        "id": "j5U35D6f4dcT",
        "outputId": "fc96dbad-2b21-4d0c-e7cd-98fb75004201"
      },
      "execution_count": 225,
      "outputs": [
        {
          "output_type": "stream",
          "name": "stdout",
          "text": [
            "[False False False ... False False False]\n",
            "(3295,)\n"
          ]
        }
      ]
    },
    {
      "cell_type": "code",
      "source": [
        "print(data[\"Low\"].values.reshape(3295,1).shape)\n",
        "print(data[\"Low_Last_5d\"].values.reshape(3295,1).shape)"
      ],
      "metadata": {
        "colab": {
          "base_uri": "https://localhost:8080/"
        },
        "id": "6qmiYClfAmX7",
        "outputId": "7f63390a-803e-4fd6-a6dc-d3c27380fb79"
      },
      "execution_count": 249,
      "outputs": [
        {
          "output_type": "stream",
          "name": "stdout",
          "text": [
            "(3295, 1)\n",
            "(3295, 1)\n"
          ]
        }
      ]
    },
    {
      "cell_type": "code",
      "source": [
        "data['Last_Close'] = data['Last_Close'].values\n",
        "print(data['Last_Close'].shape)"
      ],
      "metadata": {
        "colab": {
          "base_uri": "https://localhost:8080/"
        },
        "id": "iCTRzKdoFdtO",
        "outputId": "a2cf7457-cd6a-4332-8277-091776d1b5e4"
      },
      "execution_count": 235,
      "outputs": [
        {
          "output_type": "stream",
          "name": "stdout",
          "text": [
            "(3295,)\n"
          ]
        }
      ]
    },
    {
      "cell_type": "code",
      "source": [
        "print(data[\"Close\"].shape)\n",
        "print(data[\"Last_Close\"].shape)\n"
      ],
      "metadata": {
        "colab": {
          "base_uri": "https://localhost:8080/"
        },
        "id": "sezesujIFemd",
        "outputId": "c272562f-82c9-45f4-c216-d6a40193efd9"
      },
      "execution_count": 244,
      "outputs": [
        {
          "output_type": "stream",
          "name": "stdout",
          "text": [
            "(3295, 1)\n",
            "(3295,)\n"
          ]
        }
      ]
    },
    {
      "cell_type": "code",
      "source": [
        "data[\"Low_Last_5d\"] = data[\"Low_Last_5d\"].values.reshape(3295)"
      ],
      "metadata": {
        "id": "an0QsJrcGudx"
      },
      "execution_count": 256,
      "outputs": []
    },
    {
      "cell_type": "code",
      "source": [
        "data[\"Low_Last_5d\"].values.reshape(3295).shape"
      ],
      "metadata": {
        "colab": {
          "base_uri": "https://localhost:8080/"
        },
        "id": "etm9e28sGxcm",
        "outputId": "df06064a-736a-4272-e709-0f7f2f3145f2"
      },
      "execution_count": 261,
      "outputs": [
        {
          "output_type": "execute_result",
          "data": {
            "text/plain": [
              "(3295,)"
            ]
          },
          "metadata": {},
          "execution_count": 261
        }
      ]
    },
    {
      "cell_type": "code",
      "source": [
        "data[\"Low\"].values.reshape(3295).shape"
      ],
      "metadata": {
        "colab": {
          "base_uri": "https://localhost:8080/"
        },
        "id": "H1meEc3MTRkg",
        "outputId": "8fa2b813-9b6a-4594-c622-fe060e70dca3"
      },
      "execution_count": 262,
      "outputs": [
        {
          "output_type": "execute_result",
          "data": {
            "text/plain": [
              "(3295,)"
            ]
          },
          "metadata": {},
          "execution_count": 262
        }
      ]
    },
    {
      "cell_type": "code",
      "source": [
        "data[\"close_diff\"] = data[\"Close\"].values.reshape(3295) - data[\"Last_Close\"].values.reshape(3295)"
      ],
      "metadata": {
        "id": "vjoD4aD3TXYp"
      },
      "execution_count": 270,
      "outputs": []
    },
    {
      "cell_type": "code",
      "source": [
        "data[\"up_from_yesterday\"].sum()"
      ],
      "metadata": {
        "colab": {
          "base_uri": "https://localhost:8080/"
        },
        "id": "1W2092g3T-5J",
        "outputId": "59e28c21-da7b-449d-9407-e8c79bdc8c75"
      },
      "execution_count": 277,
      "outputs": [
        {
          "output_type": "execute_result",
          "data": {
            "text/plain": [
              "1711"
            ]
          },
          "metadata": {},
          "execution_count": 277
        }
      ]
    },
    {
      "cell_type": "code",
      "source": [
        "data[\"up_from_yesterday\"].sum()"
      ],
      "metadata": {
        "colab": {
          "base_uri": "https://localhost:8080/"
        },
        "id": "-aSl5sSkUURq",
        "outputId": "aada5ace-6a4c-4ad0-d468-9953a0ab7a94"
      },
      "execution_count": 275,
      "outputs": [
        {
          "output_type": "execute_result",
          "data": {
            "text/plain": [
              "1711"
            ]
          },
          "metadata": {},
          "execution_count": 275
        }
      ]
    },
    {
      "cell_type": "code",
      "source": [],
      "metadata": {
        "id": "8ppZG4oBUlua"
      },
      "execution_count": 285,
      "outputs": []
    },
    {
      "cell_type": "code",
      "source": [
        "data[\"buy\"].sum()"
      ],
      "metadata": {
        "colab": {
          "base_uri": "https://localhost:8080/"
        },
        "id": "Sn6xMV0iVLsH",
        "outputId": "54674b12-5052-4b2f-f0e4-2ef7f2737dc4"
      },
      "execution_count": 287,
      "outputs": [
        {
          "output_type": "execute_result",
          "data": {
            "text/plain": [
              "53"
            ]
          },
          "metadata": {},
          "execution_count": 287
        }
      ]
    },
    {
      "cell_type": "code",
      "source": [],
      "metadata": {
        "id": "SnPYODkuVh_Q"
      },
      "execution_count": null,
      "outputs": []
    }
  ]
}