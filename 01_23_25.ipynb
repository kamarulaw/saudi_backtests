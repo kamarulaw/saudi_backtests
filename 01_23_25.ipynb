{
  "nbformat": 4,
  "nbformat_minor": 0,
  "metadata": {
    "colab": {
      "provenance": []
    },
    "kernelspec": {
      "name": "python3",
      "display_name": "Python 3"
    },
    "language_info": {
      "name": "python"
    }
  },
  "cells": [
    {
      "cell_type": "code",
      "execution_count": 1,
      "metadata": {
        "colab": {
          "base_uri": "https://localhost:8080/"
        },
        "id": "WDDBA1KOTe4z",
        "outputId": "0a078cbb-93c9-426e-b960-a4cf755209ec"
      },
      "outputs": [
        {
          "output_type": "stream",
          "name": "stdout",
          "text": [
            "Requirement already satisfied: yfinance in /usr/local/lib/python3.11/dist-packages (0.2.51)\n",
            "Requirement already satisfied: pandas>=1.3.0 in /usr/local/lib/python3.11/dist-packages (from yfinance) (2.2.2)\n",
            "Requirement already satisfied: numpy>=1.16.5 in /usr/local/lib/python3.11/dist-packages (from yfinance) (1.26.4)\n",
            "Requirement already satisfied: requests>=2.31 in /usr/local/lib/python3.11/dist-packages (from yfinance) (2.32.3)\n",
            "Requirement already satisfied: multitasking>=0.0.7 in /usr/local/lib/python3.11/dist-packages (from yfinance) (0.0.11)\n",
            "Requirement already satisfied: lxml>=4.9.1 in /usr/local/lib/python3.11/dist-packages (from yfinance) (5.3.0)\n",
            "Requirement already satisfied: platformdirs>=2.0.0 in /usr/local/lib/python3.11/dist-packages (from yfinance) (4.3.6)\n",
            "Requirement already satisfied: pytz>=2022.5 in /usr/local/lib/python3.11/dist-packages (from yfinance) (2024.2)\n",
            "Requirement already satisfied: frozendict>=2.3.4 in /usr/local/lib/python3.11/dist-packages (from yfinance) (2.4.6)\n",
            "Requirement already satisfied: peewee>=3.16.2 in /usr/local/lib/python3.11/dist-packages (from yfinance) (3.17.8)\n",
            "Requirement already satisfied: beautifulsoup4>=4.11.1 in /usr/local/lib/python3.11/dist-packages (from yfinance) (4.12.3)\n",
            "Requirement already satisfied: html5lib>=1.1 in /usr/local/lib/python3.11/dist-packages (from yfinance) (1.1)\n",
            "Requirement already satisfied: soupsieve>1.2 in /usr/local/lib/python3.11/dist-packages (from beautifulsoup4>=4.11.1->yfinance) (2.6)\n",
            "Requirement already satisfied: six>=1.9 in /usr/local/lib/python3.11/dist-packages (from html5lib>=1.1->yfinance) (1.17.0)\n",
            "Requirement already satisfied: webencodings in /usr/local/lib/python3.11/dist-packages (from html5lib>=1.1->yfinance) (0.5.1)\n",
            "Requirement already satisfied: python-dateutil>=2.8.2 in /usr/local/lib/python3.11/dist-packages (from pandas>=1.3.0->yfinance) (2.8.2)\n",
            "Requirement already satisfied: tzdata>=2022.7 in /usr/local/lib/python3.11/dist-packages (from pandas>=1.3.0->yfinance) (2024.2)\n",
            "Requirement already satisfied: charset-normalizer<4,>=2 in /usr/local/lib/python3.11/dist-packages (from requests>=2.31->yfinance) (3.4.1)\n",
            "Requirement already satisfied: idna<4,>=2.5 in /usr/local/lib/python3.11/dist-packages (from requests>=2.31->yfinance) (3.10)\n",
            "Requirement already satisfied: urllib3<3,>=1.21.1 in /usr/local/lib/python3.11/dist-packages (from requests>=2.31->yfinance) (2.3.0)\n",
            "Requirement already satisfied: certifi>=2017.4.17 in /usr/local/lib/python3.11/dist-packages (from requests>=2.31->yfinance) (2024.12.14)\n"
          ]
        }
      ],
      "source": [
        "!pip install yfinance"
      ]
    },
    {
      "cell_type": "code",
      "source": [
        "import numpy as np\n",
        "import pandas as pd\n",
        "import yfinance as yf"
      ],
      "metadata": {
        "id": "GoGJLmytTh1Q"
      },
      "execution_count": 3,
      "outputs": []
    },
    {
      "cell_type": "code",
      "source": [
        "#ALGORITHM OUTLINE\n",
        "# (1) Find current_price for stock of interest (use stocks most recent close price)\n",
        "# (2) Check if .93*current_price \\in [low,high] for stock of interest for the last week (last five days)"
      ],
      "metadata": {
        "id": "gr8EvEOUaPa3"
      },
      "execution_count": 83,
      "outputs": []
    },
    {
      "cell_type": "code",
      "source": [
        "# algorithm for single date\n",
        "# dat = yf.Ticker(\"^TASI.SR\")\n",
        "# history_for_lastweek_5d = dat.history(period='5d')\n",
        "# low = history_for_lastweek_5d[\"Low\"].min()\n",
        "# high = history_for_lastweek_5d[\"High\"].max()\n",
        "# current_price = history_for_lastweek_5d[\"Close\"][0]\n",
        "# price_of_interest = .93*current_price\n",
        "# price_of_interest_within_last_week = low <= price_of_interest and price_of_interest <= high"
      ],
      "metadata": {
        "colab": {
          "base_uri": "https://localhost:8080/"
        },
        "id": "tigMQIXEgtDC",
        "outputId": "102b7bd1-68b8-4c6b-e2f4-cfa06dd725a1"
      },
      "execution_count": 70,
      "outputs": [
        {
          "output_type": "stream",
          "name": "stderr",
          "text": [
            "<ipython-input-70-2770be6dda2d>:5: FutureWarning: Series.__getitem__ treating keys as positions is deprecated. In a future version, integer keys will always be treated as labels (consistent with DataFrame behavior). To access a value by position, use `ser.iloc[pos]`\n",
            "  current_price = history_for_lastweek_5d[\"Close\"][0]\n"
          ]
        }
      ]
    },
    {
      "cell_type": "code",
      "source": [
        "# algorithm for every date between start date and end date\n",
        "data = yf.download(\"^TASI.SR\", start=\"2010-01-01\", end=\"2025-01-23\")\n",
        "\n",
        "data[\"prv_low_1\"] = data[\"Low\"].shift(1)\n",
        "data[\"prv_low_2\"] = data[\"Low\"].shift(2)\n",
        "data[\"prv_low_3\"] = data[\"Low\"].shift(3)\n",
        "data[\"prv_low_4\"] = data[\"Low\"].shift(4)\n",
        "data[\"prv_low_5\"] = data[\"Low\"].shift(5)\n",
        "data[\"Low_Last_5d\"] = data[[\"prv_low_1\", \"prv_low_2\",\"prv_low_3\",\"prv_low_4\",\"prv_low_5\"]].values.min(1)\n",
        "data = data.drop([\"prv_low_1\", \"prv_low_2\", \"prv_low_3\", \"prv_low_4\", \"prv_low_5\"], axis=1)\n",
        "\n",
        "data['prv_high_1'] = data[\"High\"].shift(1)\n",
        "data['prv_high_2'] = data[\"High\"].shift(2)\n",
        "data['prv_high_3'] = data[\"High\"].shift(3)\n",
        "data['prv_high_4'] = data[\"High\"].shift(4)\n",
        "data['prv_high_5'] = data[\"High\"].shift(5)\n",
        "data[\"High_Last_5d\"] = data[[\"prv_high_1\", \"prv_high_2\",\"prv_high_3\",\"prv_high_4\",\"prv_high_5\"]].values.max(1)\n",
        "data = data.drop([\"prv_high_1\", \"prv_high_2\", \"prv_high_3\", \"prv_high_4\", \"prv_high_5\"], axis=1)\n",
        "\n",
        "data[\"seven_percent_of_close_price\"] = .93*data[\"Close\"]\n",
        "data['seven_percent_of_close_price_within_last_five_days'] = np.where((data['Low_Last_5d'] <= data['seven_percent_of_close_price']) & (\n",
        "    data['seven_percent_of_close_price'] <= data['High_Last_5d']), True, False)"
      ],
      "metadata": {
        "colab": {
          "base_uri": "https://localhost:8080/"
        },
        "id": "f_ahYebVkHrH",
        "outputId": "5e417bc8-1b7f-477f-c1b7-a3139a4deb28"
      },
      "execution_count": 152,
      "outputs": [
        {
          "output_type": "stream",
          "name": "stderr",
          "text": [
            "\r[*********************100%***********************]  1 of 1 completed\n"
          ]
        }
      ]
    },
    {
      "cell_type": "code",
      "source": [],
      "metadata": {
        "id": "j5U35D6f4dcT"
      },
      "execution_count": null,
      "outputs": []
    }
  ]
}