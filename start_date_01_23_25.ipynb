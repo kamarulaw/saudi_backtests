{
  "nbformat": 4,
  "nbformat_minor": 0,
  "metadata": {
    "colab": {
      "provenance": []
    },
    "kernelspec": {
      "name": "python3",
      "display_name": "Python 3"
    },
    "language_info": {
      "name": "python"
    }
  },
  "cells": [
    {
      "cell_type": "code",
      "execution_count": 1,
      "metadata": {
        "id": "WDDBA1KOTe4z"
      },
      "outputs": [],
      "source": [
        "%%capture\n",
        "!pip install yfinance"
      ]
    },
    {
      "cell_type": "code",
      "source": [
        "import numpy as np\n",
        "import pandas as pd\n",
        "import yfinance as yf"
      ],
      "metadata": {
        "id": "GoGJLmytTh1Q"
      },
      "execution_count": 2,
      "outputs": []
    },
    {
      "cell_type": "code",
      "source": [
        "# ALGORITHM OUTLINE\n",
        "# (1) Find current_price for stock of interest (use stocks most recent close price)\n",
        "# (2) Check if .93*current_price \\in [low,high] for stock of interest for the last week (last five days)\n",
        "# algorithm for single date\n",
        "# dat = yf.Ticker(\"^TASI.SR\")\n",
        "# history_for_lastweek_5d = dat.history(period='5d')\n",
        "# low = history_for_lastweek_5d[\"Low\"].min()\n",
        "# high = history_for_lastweek_5d[\"High\"].max()\n",
        "# current_price = history_for_lastweek_5d[\"Close\"][0]\n",
        "# price_of_interest = .93*current_price\n",
        "# price_of_interest_within_last_week = low <= price_of_interest and price_of_interest <= high\n",
        "# https://finance.yahoo.com/quote/%5ETASI.SR/"
      ],
      "metadata": {
        "id": "gr8EvEOUaPa3"
      },
      "execution_count": 29,
      "outputs": []
    },
    {
      "cell_type": "code",
      "source": [
        "ticker = \"^TASI.SR\"\n",
        "data = yf.download(ticker, start=\"2010-01-01\", end=\"2025-01-24\")\n",
        "data[\"prv_low_1\"] = data[\"Low\"].shift(1)\n",
        "data[\"prv_low_2\"] = data[\"Low\"].shift(2)\n",
        "data[\"prv_low_3\"] = data[\"Low\"].shift(3)\n",
        "data[\"prv_low_4\"] = data[\"Low\"].shift(4)\n",
        "data[\"prv_low_5\"] = data[\"Low\"].shift(5)\n",
        "data[\"Low_Last_5d\"] = data[[\"prv_low_1\", \"prv_low_2\",\"prv_low_3\",\"prv_low_4\",\"prv_low_5\"]].values.min(1)\n",
        "data = data.drop([\"prv_low_1\", \"prv_low_2\", \"prv_low_3\", \"prv_low_4\", \"prv_low_5\"], axis=1)\n",
        "data['prv_high_1'] = data[\"High\"].shift(1)\n",
        "data['prv_high_2'] = data[\"High\"].shift(2)\n",
        "data['prv_high_3'] = data[\"High\"].shift(3)\n",
        "data['prv_high_4'] = data[\"High\"].shift(4)\n",
        "data['prv_high_5'] = data[\"High\"].shift(5)\n",
        "data[\"High_Last_5d\"] = data[[\"prv_high_1\", \"prv_high_2\",\"prv_high_3\",\"prv_high_4\",\"prv_high_5\"]].values.max(1)\n",
        "data = data.drop([\"prv_high_1\", \"prv_high_2\", \"prv_high_3\", \"prv_high_4\", \"prv_high_5\"], axis=1)\n",
        "data[\"seven_percent_of_close_price\"] = .93*data[\"Close\"]\n",
        "data[\"Close\"] = 1*data[\"Close\"]\n",
        "data[\"seven_percent_of_close_price_within_last_five_days\"] = np.where((data['Low_Last_5d'] <= data['seven_percent_of_close_price']) & (data['seven_percent_of_close_price'] <= data['High_Last_5d']), True, False)\n",
        "data[\"Last_Close\"] = data[\"Close\"].shift(1)\n",
        "data[\"close_diff\"] = data[\"Close\"].values.reshape(data.shape[0]) - data[\"Last_Close\"].values.reshape(data.shape[0])\n",
        "data[\"up_from_yesterday\"] = np.where((data[\"close_diff\"] > 0), True, False)\n",
        "data[\"buy\"] = data[\"seven_percent_of_close_price_within_last_five_days\"] & data[\"up_from_yesterday\"]\n",
        "data[\"buycumsum\"] = data[\"buy\"].cumsum().astype('int64')\n",
        "data = data.drop([\"Last_Close\",\"close_diff\",\"seven_percent_of_close_price\"], axis=1)\n",
        "data[\"Close_up1%\"] = 1.01*data[\"Close\"]\n",
        "data[\"Close_down1%\"] = .99*data[\"Close\"]\n",
        "data.loc[(data.buy == False), 'Close_up1%'] = np.nan\n",
        "data.loc[(data.buy == False), 'Close_down1%'] = np.nan\n",
        "data[\"Close_up1%\"] = data[\"Close_up1%\"].ffill()\n",
        "data[\"Close_down1%\"] = data[\"Close_down1%\"].ffill()\n",
        "data = data.drop([\"Low_Last_5d\", \"High_Last_5d\", \"seven_percent_of_close_price_within_last_five_days\", \"up_from_yesterday\", \"High\", \"Low\"], axis=1)\n",
        "data[\"close_up_diff\"] = data[\"Close\"].values.reshape(data.shape[0]) - data[\"Close_up1%\"].values.reshape(data.shape[0])\n",
        "data[\"closeaboveup1%\"] = np.where((data[\"close_up_diff\"] > 0), True, False)\n",
        "data[\"close_down_diff\"] = data[\"Close\"].values.reshape(data.shape[0]) - data[\"Close_down1%\"].values.reshape(data.shape[0])\n",
        "data[\"closebelowdown1%\"] = np.where((data[\"close_down_diff\"] < 0), True, False)\n",
        "data = data.drop([\"close_up_diff\", \"close_down_diff\"], axis=1)\n",
        "data[\"aboveup1%_or_belowdown1%\"] = np.where((data[\"closeaboveup1%\"]) | (data[\"closebelowdown1%\"]), True, False)\n",
        "#data.tail(3)\n",
        "data = data.loc[(data.buycumsum >= 1) & (data.buy == False) & (data[\"aboveup1%_or_belowdown1%\"] == True)]\n",
        "#data.head(3)\n",
        "data = data.loc[(data.buycumsum >= 1) & (data.buy == False) & (data[\"aboveup1%_or_belowdown1%\"] == True)]\n",
        "data.head(3)\n",
        "\n",
        "# exit and sell stock everytime a one percent loss is realized or exit and sell stock everytime a one percent gain is realized\n",
        "data.to_csv('out.csv', index=False)\n",
        "data = pd.read_csv('out.csv')\n",
        "data = data.drop_duplicates(subset=\"buycumsum\",inplace=False)\n",
        "print(\"\\n\\n\"+str(data[\"closeaboveup1%\"].sum()))\n",
        "print(\"\\n\"+str(data[\"closebelowdown1%\"].sum()))\n",
        "\n"
      ],
      "metadata": {
        "colab": {
          "base_uri": "https://localhost:8080/"
        },
        "id": "f_ahYebVkHrH",
        "outputId": "5172f9c7-c5b0-48d6-86c3-341147eee87f"
      },
      "execution_count": 20,
      "outputs": [
        {
          "output_type": "stream",
          "name": "stderr",
          "text": [
            "\r[*********************100%***********************]  1 of 1 completed"
          ]
        },
        {
          "output_type": "stream",
          "name": "stdout",
          "text": [
            "\n",
            "\n",
            "8\n",
            "\n",
            "18\n"
          ]
        },
        {
          "output_type": "stream",
          "name": "stderr",
          "text": [
            "\n"
          ]
        }
      ]
    },
    {
      "cell_type": "code",
      "source": [
        "# Saudi Telecom Company (7010.SR)\n",
        "ticker = \"7010.SR\"\n",
        "data = yf.download(ticker, start=\"2010-01-01\", end=\"2025-01-24\")\n",
        "data[\"prv_low_1\"] = data[\"Low\"].shift(1)\n",
        "data[\"prv_low_2\"] = data[\"Low\"].shift(2)\n",
        "data[\"prv_low_3\"] = data[\"Low\"].shift(3)\n",
        "data[\"prv_low_4\"] = data[\"Low\"].shift(4)\n",
        "data[\"prv_low_5\"] = data[\"Low\"].shift(5)\n",
        "data[\"Low_Last_5d\"] = data[[\"prv_low_1\", \"prv_low_2\",\"prv_low_3\",\"prv_low_4\",\"prv_low_5\"]].values.min(1)\n",
        "data = data.drop([\"prv_low_1\", \"prv_low_2\", \"prv_low_3\", \"prv_low_4\", \"prv_low_5\"], axis=1)\n",
        "data['prv_high_1'] = data[\"High\"].shift(1)\n",
        "data['prv_high_2'] = data[\"High\"].shift(2)\n",
        "data['prv_high_3'] = data[\"High\"].shift(3)\n",
        "data['prv_high_4'] = data[\"High\"].shift(4)\n",
        "data['prv_high_5'] = data[\"High\"].shift(5)\n",
        "data[\"High_Last_5d\"] = data[[\"prv_high_1\", \"prv_high_2\",\"prv_high_3\",\"prv_high_4\",\"prv_high_5\"]].values.max(1)\n",
        "data = data.drop([\"prv_high_1\", \"prv_high_2\", \"prv_high_3\", \"prv_high_4\", \"prv_high_5\"], axis=1)\n",
        "data[\"seven_percent_of_close_price\"] = .93*data[\"Close\"]\n",
        "data[\"Close\"] = 1*data[\"Close\"]\n",
        "data[\"seven_percent_of_close_price_within_last_five_days\"] = np.where((data['Low_Last_5d'] <= data['seven_percent_of_close_price']) & (data['seven_percent_of_close_price'] <= data['High_Last_5d']), True, False)\n",
        "data[\"Last_Close\"] = data[\"Close\"].shift(1)\n",
        "data[\"close_diff\"] = data[\"Close\"].values.reshape(data.shape[0]) - data[\"Last_Close\"].values.reshape(data.shape[0])\n",
        "data[\"up_from_yesterday\"] = np.where((data[\"close_diff\"] > 0), True, False)\n",
        "data[\"buy\"] = data[\"seven_percent_of_close_price_within_last_five_days\"] & data[\"up_from_yesterday\"]\n",
        "data[\"buycumsum\"] = data[\"buy\"].cumsum().astype('int64')\n",
        "data = data.drop([\"Last_Close\",\"close_diff\",\"seven_percent_of_close_price\"], axis=1)\n",
        "data[\"Close_up1%\"] = 1.01*data[\"Close\"]\n",
        "data[\"Close_down1%\"] = .99*data[\"Close\"]\n",
        "data.loc[(data.buy == False), 'Close_up1%'] = np.nan\n",
        "data.loc[(data.buy == False), 'Close_down1%'] = np.nan\n",
        "data[\"Close_up1%\"] = data[\"Close_up1%\"].ffill()\n",
        "data[\"Close_down1%\"] = data[\"Close_down1%\"].ffill()\n",
        "data = data.drop([\"Low_Last_5d\", \"High_Last_5d\", \"seven_percent_of_close_price_within_last_five_days\", \"up_from_yesterday\", \"High\", \"Low\"], axis=1)\n",
        "data[\"close_up_diff\"] = data[\"Close\"].values.reshape(data.shape[0]) - data[\"Close_up1%\"].values.reshape(data.shape[0])\n",
        "data[\"closeaboveup1%\"] = np.where((data[\"close_up_diff\"] > 0), True, False)\n",
        "data[\"close_down_diff\"] = data[\"Close\"].values.reshape(data.shape[0]) - data[\"Close_down1%\"].values.reshape(data.shape[0])\n",
        "data[\"closebelowdown1%\"] = np.where((data[\"close_down_diff\"] < 0), True, False)\n",
        "data = data.drop([\"close_up_diff\", \"close_down_diff\"], axis=1)\n",
        "data[\"aboveup1%_or_belowdown1%\"] = np.where((data[\"closeaboveup1%\"]) | (data[\"closebelowdown1%\"]), True, False)\n",
        "#data.tail(3)\n",
        "data = data.loc[(data.buycumsum >= 1) & (data.buy == False) & (data[\"aboveup1%_or_belowdown1%\"] == True)]\n",
        "#data.head(3)\n",
        "data = data.loc[(data.buycumsum >= 1) & (data.buy == False) & (data[\"aboveup1%_or_belowdown1%\"] == True)]\n",
        "data.head(3)\n",
        "\n",
        "# exit and sell stock everytime a one percent loss is realized or exit and sell stock everytime a one percent gain is realized\n",
        "data.to_csv('out.csv', index=False)\n",
        "data = pd.read_csv('out.csv')\n",
        "data = data.drop_duplicates(subset=\"buycumsum\",inplace=False)\n",
        "print(\"\\n\\n\"+str(data[\"closeaboveup1%\"].sum()))\n",
        "print(\"\\n\"+str(data[\"closebelowdown1%\"].sum()))"
      ],
      "metadata": {
        "colab": {
          "base_uri": "https://localhost:8080/"
        },
        "id": "zRUcociayceT",
        "outputId": "805e6f54-4271-4d5c-e35e-02803da7ca82"
      },
      "execution_count": 19,
      "outputs": [
        {
          "output_type": "stream",
          "name": "stderr",
          "text": [
            "\r[*********************100%***********************]  1 of 1 completed\n"
          ]
        },
        {
          "output_type": "stream",
          "name": "stdout",
          "text": [
            "\n",
            "\n",
            "10\n",
            "\n",
            "48\n"
          ]
        }
      ]
    },
    {
      "cell_type": "code",
      "source": [
        "# Al Rajhi Banking and Investment Corporation (1120.SR)\n",
        "ticker = \"1120.SR\"\n",
        "data = yf.download(ticker, start=\"2010-01-01\", end=\"2025-01-24\")\n",
        "data[\"prv_low_1\"] = data[\"Low\"].shift(1)\n",
        "data[\"prv_low_2\"] = data[\"Low\"].shift(2)\n",
        "data[\"prv_low_3\"] = data[\"Low\"].shift(3)\n",
        "data[\"prv_low_4\"] = data[\"Low\"].shift(4)\n",
        "data[\"prv_low_5\"] = data[\"Low\"].shift(5)\n",
        "data[\"Low_Last_5d\"] = data[[\"prv_low_1\", \"prv_low_2\",\"prv_low_3\",\"prv_low_4\",\"prv_low_5\"]].values.min(1)\n",
        "data = data.drop([\"prv_low_1\", \"prv_low_2\", \"prv_low_3\", \"prv_low_4\", \"prv_low_5\"], axis=1)\n",
        "data['prv_high_1'] = data[\"High\"].shift(1)\n",
        "data['prv_high_2'] = data[\"High\"].shift(2)\n",
        "data['prv_high_3'] = data[\"High\"].shift(3)\n",
        "data['prv_high_4'] = data[\"High\"].shift(4)\n",
        "data['prv_high_5'] = data[\"High\"].shift(5)\n",
        "data[\"High_Last_5d\"] = data[[\"prv_high_1\", \"prv_high_2\",\"prv_high_3\",\"prv_high_4\",\"prv_high_5\"]].values.max(1)\n",
        "data = data.drop([\"prv_high_1\", \"prv_high_2\", \"prv_high_3\", \"prv_high_4\", \"prv_high_5\"], axis=1)\n",
        "data[\"seven_percent_of_close_price\"] = .93*data[\"Close\"]\n",
        "data[\"Close\"] = 1*data[\"Close\"]\n",
        "data[\"seven_percent_of_close_price_within_last_five_days\"] = np.where((data['Low_Last_5d'] <= data['seven_percent_of_close_price']) & (data['seven_percent_of_close_price'] <= data['High_Last_5d']), True, False)\n",
        "data[\"Last_Close\"] = data[\"Close\"].shift(1)\n",
        "data[\"close_diff\"] = data[\"Close\"].values.reshape(data.shape[0]) - data[\"Last_Close\"].values.reshape(data.shape[0])\n",
        "data[\"up_from_yesterday\"] = np.where((data[\"close_diff\"] > 0), True, False)\n",
        "data[\"buy\"] = data[\"seven_percent_of_close_price_within_last_five_days\"] & data[\"up_from_yesterday\"]\n",
        "data[\"buycumsum\"] = data[\"buy\"].cumsum().astype('int64')\n",
        "data = data.drop([\"Last_Close\",\"close_diff\",\"seven_percent_of_close_price\"], axis=1)\n",
        "data[\"Close_up1%\"] = 1.01*data[\"Close\"]\n",
        "data[\"Close_down1%\"] = .99*data[\"Close\"]\n",
        "data.loc[(data.buy == False), 'Close_up1%'] = np.nan\n",
        "data.loc[(data.buy == False), 'Close_down1%'] = np.nan\n",
        "data[\"Close_up1%\"] = data[\"Close_up1%\"].ffill()\n",
        "data[\"Close_down1%\"] = data[\"Close_down1%\"].ffill()\n",
        "data = data.drop([\"Low_Last_5d\", \"High_Last_5d\", \"seven_percent_of_close_price_within_last_five_days\", \"up_from_yesterday\", \"High\", \"Low\"], axis=1)\n",
        "data[\"close_up_diff\"] = data[\"Close\"].values.reshape(data.shape[0]) - data[\"Close_up1%\"].values.reshape(data.shape[0])\n",
        "data[\"closeaboveup1%\"] = np.where((data[\"close_up_diff\"] > 0), True, False)\n",
        "data[\"close_down_diff\"] = data[\"Close\"].values.reshape(data.shape[0]) - data[\"Close_down1%\"].values.reshape(data.shape[0])\n",
        "data[\"closebelowdown1%\"] = np.where((data[\"close_down_diff\"] < 0), True, False)\n",
        "data = data.drop([\"close_up_diff\", \"close_down_diff\"], axis=1)\n",
        "data[\"aboveup1%_or_belowdown1%\"] = np.where((data[\"closeaboveup1%\"]) | (data[\"closebelowdown1%\"]), True, False)\n",
        "#data.tail(3)\n",
        "data = data.loc[(data.buycumsum >= 1) & (data.buy == False) & (data[\"aboveup1%_or_belowdown1%\"] == True)]\n",
        "#data.head(3)\n",
        "data = data.loc[(data.buycumsum >= 1) & (data.buy == False) & (data[\"aboveup1%_or_belowdown1%\"] == True)]\n",
        "data.head(3)\n",
        "\n",
        "# exit and sell stock everytime a one percent loss is realized or exit and sell stock everytime a one percent gain is realized\n",
        "data.to_csv('out.csv', index=False)\n",
        "data = pd.read_csv('out.csv')\n",
        "data = data.drop_duplicates(subset=\"buycumsum\",inplace=False)\n",
        "print(\"\\n\\n\"+str(data[\"closeaboveup1%\"].sum()))\n",
        "print(\"\\n\"+str(data[\"closebelowdown1%\"].sum()))"
      ],
      "metadata": {
        "id": "cZneHT0jypVT",
        "colab": {
          "base_uri": "https://localhost:8080/"
        },
        "outputId": "3887615f-90eb-40e2-e1ab-4834df8067a9"
      },
      "execution_count": 23,
      "outputs": [
        {
          "output_type": "stream",
          "name": "stderr",
          "text": [
            "\r[*********************100%***********************]  1 of 1 completed"
          ]
        },
        {
          "output_type": "stream",
          "name": "stdout",
          "text": [
            "\n",
            "\n",
            "19\n",
            "\n",
            "57\n"
          ]
        },
        {
          "output_type": "stream",
          "name": "stderr",
          "text": [
            "\n"
          ]
        }
      ]
    },
    {
      "cell_type": "code",
      "source": [
        "# Saudi Basic Industries Corporation (2010.SR)\n",
        "ticker = \"2010.SR\"\n",
        "data = yf.download(ticker, start=\"2010-01-01\", end=\"2025-01-24\")\n",
        "data[\"prv_low_1\"] = data[\"Low\"].shift(1)\n",
        "data[\"prv_low_2\"] = data[\"Low\"].shift(2)\n",
        "data[\"prv_low_3\"] = data[\"Low\"].shift(3)\n",
        "data[\"prv_low_4\"] = data[\"Low\"].shift(4)\n",
        "data[\"prv_low_5\"] = data[\"Low\"].shift(5)\n",
        "data[\"Low_Last_5d\"] = data[[\"prv_low_1\", \"prv_low_2\",\"prv_low_3\",\"prv_low_4\",\"prv_low_5\"]].values.min(1)\n",
        "data = data.drop([\"prv_low_1\", \"prv_low_2\", \"prv_low_3\", \"prv_low_4\", \"prv_low_5\"], axis=1)\n",
        "data['prv_high_1'] = data[\"High\"].shift(1)\n",
        "data['prv_high_2'] = data[\"High\"].shift(2)\n",
        "data['prv_high_3'] = data[\"High\"].shift(3)\n",
        "data['prv_high_4'] = data[\"High\"].shift(4)\n",
        "data['prv_high_5'] = data[\"High\"].shift(5)\n",
        "data[\"High_Last_5d\"] = data[[\"prv_high_1\", \"prv_high_2\",\"prv_high_3\",\"prv_high_4\",\"prv_high_5\"]].values.max(1)\n",
        "data = data.drop([\"prv_high_1\", \"prv_high_2\", \"prv_high_3\", \"prv_high_4\", \"prv_high_5\"], axis=1)\n",
        "data[\"seven_percent_of_close_price\"] = .93*data[\"Close\"]\n",
        "data[\"Close\"] = 1*data[\"Close\"]\n",
        "data[\"seven_percent_of_close_price_within_last_five_days\"] = np.where((data['Low_Last_5d'] <= data['seven_percent_of_close_price']) & (data['seven_percent_of_close_price'] <= data['High_Last_5d']), True, False)\n",
        "data[\"Last_Close\"] = data[\"Close\"].shift(1)\n",
        "data[\"close_diff\"] = data[\"Close\"].values.reshape(data.shape[0]) - data[\"Last_Close\"].values.reshape(data.shape[0])\n",
        "data[\"up_from_yesterday\"] = np.where((data[\"close_diff\"] > 0), True, False)\n",
        "data[\"buy\"] = data[\"seven_percent_of_close_price_within_last_five_days\"] & data[\"up_from_yesterday\"]\n",
        "data[\"buycumsum\"] = data[\"buy\"].cumsum().astype('int64')\n",
        "data = data.drop([\"Last_Close\",\"close_diff\",\"seven_percent_of_close_price\"], axis=1)\n",
        "data[\"Close_up1%\"] = 1.01*data[\"Close\"]\n",
        "data[\"Close_down1%\"] = .99*data[\"Close\"]\n",
        "data.loc[(data.buy == False), 'Close_up1%'] = np.nan\n",
        "data.loc[(data.buy == False), 'Close_down1%'] = np.nan\n",
        "data[\"Close_up1%\"] = data[\"Close_up1%\"].ffill()\n",
        "data[\"Close_down1%\"] = data[\"Close_down1%\"].ffill()\n",
        "data = data.drop([\"Low_Last_5d\", \"High_Last_5d\", \"seven_percent_of_close_price_within_last_five_days\", \"up_from_yesterday\", \"High\", \"Low\"], axis=1)\n",
        "data[\"close_up_diff\"] = data[\"Close\"].values.reshape(data.shape[0]) - data[\"Close_up1%\"].values.reshape(data.shape[0])\n",
        "data[\"closeaboveup1%\"] = np.where((data[\"close_up_diff\"] > 0), True, False)\n",
        "data[\"close_down_diff\"] = data[\"Close\"].values.reshape(data.shape[0]) - data[\"Close_down1%\"].values.reshape(data.shape[0])\n",
        "data[\"closebelowdown1%\"] = np.where((data[\"close_down_diff\"] < 0), True, False)\n",
        "data = data.drop([\"close_up_diff\", \"close_down_diff\"], axis=1)\n",
        "data[\"aboveup1%_or_belowdown1%\"] = np.where((data[\"closeaboveup1%\"]) | (data[\"closebelowdown1%\"]), True, False)\n",
        "#data.tail(3)\n",
        "data = data.loc[(data.buycumsum >= 1) & (data.buy == False) & (data[\"aboveup1%_or_belowdown1%\"] == True)]\n",
        "#data.head(3)\n",
        "data = data.loc[(data.buycumsum >= 1) & (data.buy == False) & (data[\"aboveup1%_or_belowdown1%\"] == True)]\n",
        "data.head(3)\n",
        "\n",
        "# exit and sell stock everytime a one percent loss is realized or exit and sell stock everytime a one percent gain is realized\n",
        "data.to_csv('out.csv', index=False)\n",
        "data = pd.read_csv('out.csv')\n",
        "data = data.drop_duplicates(subset=\"buycumsum\",inplace=False)\n",
        "print(\"\\n\\n\"+str(data[\"closeaboveup1%\"].sum()))\n",
        "print(\"\\n\"+str(data[\"closebelowdown1%\"].sum()))"
      ],
      "metadata": {
        "colab": {
          "base_uri": "https://localhost:8080/"
        },
        "id": "ejrU5GJyWAXa",
        "outputId": "2a1b5724-0f36-4521-c2be-93752e0a5d32"
      },
      "execution_count": 26,
      "outputs": [
        {
          "output_type": "stream",
          "name": "stderr",
          "text": [
            "\r[*********************100%***********************]  1 of 1 completed"
          ]
        },
        {
          "output_type": "stream",
          "name": "stdout",
          "text": [
            "\n",
            "\n",
            "5\n",
            "\n",
            "52\n"
          ]
        },
        {
          "output_type": "stream",
          "name": "stderr",
          "text": [
            "\n"
          ]
        }
      ]
    },
    {
      "cell_type": "code",
      "source": [
        "# Alinma Bank (1150.SR)\n",
        "ticker = \"1150.SR\"\n",
        "data = yf.download(ticker, start=\"2010-01-01\", end=\"2025-01-24\")\n",
        "data[\"prv_low_1\"] = data[\"Low\"].shift(1)\n",
        "data[\"prv_low_2\"] = data[\"Low\"].shift(2)\n",
        "data[\"prv_low_3\"] = data[\"Low\"].shift(3)\n",
        "data[\"prv_low_4\"] = data[\"Low\"].shift(4)\n",
        "data[\"prv_low_5\"] = data[\"Low\"].shift(5)\n",
        "data[\"Low_Last_5d\"] = data[[\"prv_low_1\", \"prv_low_2\",\"prv_low_3\",\"prv_low_4\",\"prv_low_5\"]].values.min(1)\n",
        "data = data.drop([\"prv_low_1\", \"prv_low_2\", \"prv_low_3\", \"prv_low_4\", \"prv_low_5\"], axis=1)\n",
        "data['prv_high_1'] = data[\"High\"].shift(1)\n",
        "data['prv_high_2'] = data[\"High\"].shift(2)\n",
        "data['prv_high_3'] = data[\"High\"].shift(3)\n",
        "data['prv_high_4'] = data[\"High\"].shift(4)\n",
        "data['prv_high_5'] = data[\"High\"].shift(5)\n",
        "data[\"High_Last_5d\"] = data[[\"prv_high_1\", \"prv_high_2\",\"prv_high_3\",\"prv_high_4\",\"prv_high_5\"]].values.max(1)\n",
        "data = data.drop([\"prv_high_1\", \"prv_high_2\", \"prv_high_3\", \"prv_high_4\", \"prv_high_5\"], axis=1)\n",
        "data[\"seven_percent_of_close_price\"] = .93*data[\"Close\"]\n",
        "data[\"Close\"] = 1*data[\"Close\"]\n",
        "data[\"seven_percent_of_close_price_within_last_five_days\"] = np.where((data['Low_Last_5d'] <= data['seven_percent_of_close_price']) & (data['seven_percent_of_close_price'] <= data['High_Last_5d']), True, False)\n",
        "data[\"Last_Close\"] = data[\"Close\"].shift(1)\n",
        "data[\"close_diff\"] = data[\"Close\"].values.reshape(data.shape[0]) - data[\"Last_Close\"].values.reshape(data.shape[0])\n",
        "data[\"up_from_yesterday\"] = np.where((data[\"close_diff\"] > 0), True, False)\n",
        "data[\"buy\"] = data[\"seven_percent_of_close_price_within_last_five_days\"] & data[\"up_from_yesterday\"]\n",
        "data[\"buycumsum\"] = data[\"buy\"].cumsum().astype('int64')\n",
        "data = data.drop([\"Last_Close\",\"close_diff\",\"seven_percent_of_close_price\"], axis=1)\n",
        "data[\"Close_up1%\"] = 1.01*data[\"Close\"]\n",
        "data[\"Close_down1%\"] = .99*data[\"Close\"]\n",
        "data.loc[(data.buy == False), 'Close_up1%'] = np.nan\n",
        "data.loc[(data.buy == False), 'Close_down1%'] = np.nan\n",
        "data[\"Close_up1%\"] = data[\"Close_up1%\"].ffill()\n",
        "data[\"Close_down1%\"] = data[\"Close_down1%\"].ffill()\n",
        "data = data.drop([\"Low_Last_5d\", \"High_Last_5d\", \"seven_percent_of_close_price_within_last_five_days\", \"up_from_yesterday\", \"High\", \"Low\"], axis=1)\n",
        "data[\"close_up_diff\"] = data[\"Close\"].values.reshape(data.shape[0]) - data[\"Close_up1%\"].values.reshape(data.shape[0])\n",
        "data[\"closeaboveup1%\"] = np.where((data[\"close_up_diff\"] > 0), True, False)\n",
        "data[\"close_down_diff\"] = data[\"Close\"].values.reshape(data.shape[0]) - data[\"Close_down1%\"].values.reshape(data.shape[0])\n",
        "data[\"closebelowdown1%\"] = np.where((data[\"close_down_diff\"] < 0), True, False)\n",
        "data = data.drop([\"close_up_diff\", \"close_down_diff\"], axis=1)\n",
        "data[\"aboveup1%_or_belowdown1%\"] = np.where((data[\"closeaboveup1%\"]) | (data[\"closebelowdown1%\"]), True, False)\n",
        "#data.tail(3)\n",
        "data = data.loc[(data.buycumsum >= 1) & (data.buy == False) & (data[\"aboveup1%_or_belowdown1%\"] == True)]\n",
        "#data.head(3)\n",
        "data = data.loc[(data.buycumsum >= 1) & (data.buy == False) & (data[\"aboveup1%_or_belowdown1%\"] == True)]\n",
        "data.head(3)\n",
        "\n",
        "# exit and sell stock everytime a one percent loss is realized or exit and sell stock everytime a one percent gain is realized\n",
        "data.to_csv('out.csv', index=False)\n",
        "data = pd.read_csv('out.csv')\n",
        "data = data.drop_duplicates(subset=\"buycumsum\",inplace=False)\n",
        "print(\"\\n\\n\"+str(data[\"closeaboveup1%\"].sum()))\n",
        "print(\"\\n\"+str(data[\"closebelowdown1%\"].sum()))"
      ],
      "metadata": {
        "colab": {
          "base_uri": "https://localhost:8080/"
        },
        "id": "J6PDZ5nWYCdB",
        "outputId": "9b7068bb-d907-4abb-863b-1e24936e5d72"
      },
      "execution_count": 27,
      "outputs": [
        {
          "output_type": "stream",
          "name": "stderr",
          "text": [
            "\r[*********************100%***********************]  1 of 1 completed"
          ]
        },
        {
          "output_type": "stream",
          "name": "stdout",
          "text": [
            "\n",
            "\n",
            "12\n",
            "\n",
            "79\n"
          ]
        },
        {
          "output_type": "stream",
          "name": "stderr",
          "text": [
            "\n"
          ]
        }
      ]
    },
    {
      "cell_type": "code",
      "source": [
        "# Jarir Marketing Company (4190.SR)\n",
        "ticker = \"4190.SR\"\n",
        "data = yf.download(ticker, start=\"2010-01-01\", end=\"2025-01-24\")\n",
        "data[\"prv_low_1\"] = data[\"Low\"].shift(1)\n",
        "data[\"prv_low_2\"] = data[\"Low\"].shift(2)\n",
        "data[\"prv_low_3\"] = data[\"Low\"].shift(3)\n",
        "data[\"prv_low_4\"] = data[\"Low\"].shift(4)\n",
        "data[\"prv_low_5\"] = data[\"Low\"].shift(5)\n",
        "data[\"Low_Last_5d\"] = data[[\"prv_low_1\", \"prv_low_2\",\"prv_low_3\",\"prv_low_4\",\"prv_low_5\"]].values.min(1)\n",
        "data = data.drop([\"prv_low_1\", \"prv_low_2\", \"prv_low_3\", \"prv_low_4\", \"prv_low_5\"], axis=1)\n",
        "data['prv_high_1'] = data[\"High\"].shift(1)\n",
        "data['prv_high_2'] = data[\"High\"].shift(2)\n",
        "data['prv_high_3'] = data[\"High\"].shift(3)\n",
        "data['prv_high_4'] = data[\"High\"].shift(4)\n",
        "data['prv_high_5'] = data[\"High\"].shift(5)\n",
        "data[\"High_Last_5d\"] = data[[\"prv_high_1\", \"prv_high_2\",\"prv_high_3\",\"prv_high_4\",\"prv_high_5\"]].values.max(1)\n",
        "data = data.drop([\"prv_high_1\", \"prv_high_2\", \"prv_high_3\", \"prv_high_4\", \"prv_high_5\"], axis=1)\n",
        "data[\"seven_percent_of_close_price\"] = .93*data[\"Close\"]\n",
        "data[\"Close\"] = 1*data[\"Close\"]\n",
        "data[\"seven_percent_of_close_price_within_last_five_days\"] = np.where((data['Low_Last_5d'] <= data['seven_percent_of_close_price']) & (data['seven_percent_of_close_price'] <= data['High_Last_5d']), True, False)\n",
        "data[\"Last_Close\"] = data[\"Close\"].shift(1)\n",
        "data[\"close_diff\"] = data[\"Close\"].values.reshape(data.shape[0]) - data[\"Last_Close\"].values.reshape(data.shape[0])\n",
        "data[\"up_from_yesterday\"] = np.where((data[\"close_diff\"] > 0), True, False)\n",
        "data[\"buy\"] = data[\"seven_percent_of_close_price_within_last_five_days\"] & data[\"up_from_yesterday\"]\n",
        "data[\"buycumsum\"] = data[\"buy\"].cumsum().astype('int64')\n",
        "data = data.drop([\"Last_Close\",\"close_diff\",\"seven_percent_of_close_price\"], axis=1)\n",
        "data[\"Close_up1%\"] = 1.01*data[\"Close\"]\n",
        "data[\"Close_down1%\"] = .99*data[\"Close\"]\n",
        "data.loc[(data.buy == False), 'Close_up1%'] = np.nan\n",
        "data.loc[(data.buy == False), 'Close_down1%'] = np.nan\n",
        "data[\"Close_up1%\"] = data[\"Close_up1%\"].ffill()\n",
        "data[\"Close_down1%\"] = data[\"Close_down1%\"].ffill()\n",
        "data = data.drop([\"Low_Last_5d\", \"High_Last_5d\", \"seven_percent_of_close_price_within_last_five_days\", \"up_from_yesterday\", \"High\", \"Low\"], axis=1)\n",
        "data[\"close_up_diff\"] = data[\"Close\"].values.reshape(data.shape[0]) - data[\"Close_up1%\"].values.reshape(data.shape[0])\n",
        "data[\"closeaboveup1%\"] = np.where((data[\"close_up_diff\"] > 0), True, False)\n",
        "data[\"close_down_diff\"] = data[\"Close\"].values.reshape(data.shape[0]) - data[\"Close_down1%\"].values.reshape(data.shape[0])\n",
        "data[\"closebelowdown1%\"] = np.where((data[\"close_down_diff\"] < 0), True, False)\n",
        "data = data.drop([\"close_up_diff\", \"close_down_diff\"], axis=1)\n",
        "data[\"aboveup1%_or_belowdown1%\"] = np.where((data[\"closeaboveup1%\"]) | (data[\"closebelowdown1%\"]), True, False)\n",
        "#data.tail(3)\n",
        "data = data.loc[(data.buycumsum >= 1) & (data.buy == False) & (data[\"aboveup1%_or_belowdown1%\"] == True)]\n",
        "#data.head(3)\n",
        "data = data.loc[(data.buycumsum >= 1) & (data.buy == False) & (data[\"aboveup1%_or_belowdown1%\"] == True)]\n",
        "data.head(3)\n",
        "\n",
        "# exit and sell stock everytime a one percent loss is realized or exit and sell stock everytime a one percent gain is realized\n",
        "data.to_csv('out.csv', index=False)\n",
        "data = pd.read_csv('out.csv')\n",
        "data = data.drop_duplicates(subset=\"buycumsum\",inplace=False)\n",
        "print(\"\\n\\n\"+str(data[\"closeaboveup1%\"].sum()))\n",
        "print(\"\\n\"+str(data[\"closebelowdown1%\"].sum()))"
      ],
      "metadata": {
        "colab": {
          "base_uri": "https://localhost:8080/"
        },
        "id": "prPZociVYMrb",
        "outputId": "c52ae825-7539-4443-ac90-61bf2c2262ba"
      },
      "execution_count": 28,
      "outputs": [
        {
          "output_type": "stream",
          "name": "stderr",
          "text": [
            "\r[*********************100%***********************]  1 of 1 completed"
          ]
        },
        {
          "output_type": "stream",
          "name": "stdout",
          "text": [
            "\n",
            "\n",
            "13\n",
            "\n",
            "55\n"
          ]
        },
        {
          "output_type": "stream",
          "name": "stderr",
          "text": [
            "\n"
          ]
        }
      ]
    }
  ]
}