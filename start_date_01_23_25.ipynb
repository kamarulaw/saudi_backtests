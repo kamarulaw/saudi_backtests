{
  "nbformat": 4,
  "nbformat_minor": 0,
  "metadata": {
    "colab": {
      "provenance": []
    },
    "kernelspec": {
      "name": "python3",
      "display_name": "Python 3"
    },
    "language_info": {
      "name": "python"
    }
  },
  "cells": [
    {
      "cell_type": "code",
      "execution_count": 1,
      "metadata": {
        "id": "WDDBA1KOTe4z"
      },
      "outputs": [],
      "source": [
        "%%capture\n",
        "!pip install yfinance"
      ]
    },
    {
      "cell_type": "code",
      "source": [
        "import numpy as np\n",
        "import pandas as pd\n",
        "import yfinance as yf"
      ],
      "metadata": {
        "id": "GoGJLmytTh1Q"
      },
      "execution_count": 2,
      "outputs": []
    },
    {
      "cell_type": "code",
      "source": [
        "# ALGORITHM OUTLINE\n",
        "# (1) Find current_price for stock of interest (use stocks most recent close price)\n",
        "# (2) Check if .93*current_price \\in [low,high] for stock of interest for the last week (last five days)\n",
        "# algorithm for single date\n",
        "# dat = yf.Ticker(\"^TASI.SR\")\n",
        "# history_for_lastweek_5d = dat.history(period='5d')\n",
        "# low = history_for_lastweek_5d[\"Low\"].min()\n",
        "# high = history_for_lastweek_5d[\"High\"].max()\n",
        "# current_price = history_for_lastweek_5d[\"Close\"][0]\n",
        "# price_of_interest = .93*current_price\n",
        "# price_of_interest_within_last_week = low <= price_of_interest and price_of_interest <= high\n",
        "# https://finance.yahoo.com/quote/%5ETASI.SR/"
      ],
      "metadata": {
        "id": "gr8EvEOUaPa3"
      },
      "execution_count": 29,
      "outputs": []
    },
    {
      "cell_type": "code",
      "source": [
        "ticker = \"^TASI.SR\"\n",
        "data = yf.download(ticker, start=\"2010-01-01\", end=\"2025-01-24\")\n",
        "data[\"prv_low_1\"] = data[\"Low\"].shift(1)\n",
        "data[\"prv_low_2\"] = data[\"Low\"].shift(2)\n",
        "data[\"prv_low_3\"] = data[\"Low\"].shift(3)\n",
        "data[\"prv_low_4\"] = data[\"Low\"].shift(4)\n",
        "data[\"prv_low_5\"] = data[\"Low\"].shift(5)\n",
        "data[\"Low_Last_5d\"] = data[[\"prv_low_1\", \"prv_low_2\",\"prv_low_3\",\"prv_low_4\",\"prv_low_5\"]].values.min(1)\n",
        "data = data.drop([\"prv_low_1\", \"prv_low_2\", \"prv_low_3\", \"prv_low_4\", \"prv_low_5\"], axis=1)\n",
        "data['prv_high_1'] = data[\"High\"].shift(1)\n",
        "data['prv_high_2'] = data[\"High\"].shift(2)\n",
        "data['prv_high_3'] = data[\"High\"].shift(3)\n",
        "data['prv_high_4'] = data[\"High\"].shift(4)\n",
        "data['prv_high_5'] = data[\"High\"].shift(5)\n",
        "data[\"High_Last_5d\"] = data[[\"prv_high_1\", \"prv_high_2\",\"prv_high_3\",\"prv_high_4\",\"prv_high_5\"]].values.max(1)\n",
        "data = data.drop([\"prv_high_1\", \"prv_high_2\", \"prv_high_3\", \"prv_high_4\", \"prv_high_5\"], axis=1)\n",
        "data[\"seven_percent_of_close_price\"] = .93*data[\"Close\"]\n",
        "data[\"Close\"] = 1*data[\"Close\"]\n",
        "data[\"seven_percent_of_close_price_within_last_five_days\"] = np.where((data['Low_Last_5d'] <= data['seven_percent_of_close_price']) & (data['seven_percent_of_close_price'] <= data['High_Last_5d']), True, False)\n",
        "data[\"Last_Close\"] = data[\"Close\"].shift(1)\n",
        "data[\"close_diff\"] = data[\"Close\"].values.reshape(data.shape[0]) - data[\"Last_Close\"].values.reshape(data.shape[0])\n",
        "data[\"up_from_yesterday\"] = np.where((data[\"close_diff\"] > 0), True, False)\n",
        "data[\"buy\"] = data[\"seven_percent_of_close_price_within_last_five_days\"] & data[\"up_from_yesterday\"]\n",
        "data[\"buycumsum\"] = data[\"buy\"].cumsum().astype('int64')\n",
        "data = data.drop([\"Last_Close\",\"close_diff\",\"seven_percent_of_close_price\"], axis=1)\n",
        "data[\"Close_up1%\"] = 1.01*data[\"Close\"]\n",
        "data[\"Close_down1%\"] = .99*data[\"Close\"]\n",
        "data.loc[(data.buy == False), 'Close_up1%'] = np.nan\n",
        "data.loc[(data.buy == False), 'Close_down1%'] = np.nan\n",
        "data[\"Close_up1%\"] = data[\"Close_up1%\"].ffill()\n",
        "data[\"Close_down1%\"] = data[\"Close_down1%\"].ffill()\n",
        "data = data.drop([\"Low_Last_5d\", \"High_Last_5d\", \"seven_percent_of_close_price_within_last_five_days\", \"up_from_yesterday\", \"High\", \"Low\"], axis=1)\n",
        "data[\"close_up_diff\"] = data[\"Close\"].values.reshape(data.shape[0]) - data[\"Close_up1%\"].values.reshape(data.shape[0])\n",
        "data[\"closeaboveup1%\"] = np.where((data[\"close_up_diff\"] > 0), True, False)\n",
        "data[\"close_down_diff\"] = data[\"Close\"].values.reshape(data.shape[0]) - data[\"Close_down1%\"].values.reshape(data.shape[0])\n",
        "data[\"closebelowdown1%\"] = np.where((data[\"close_down_diff\"] < 0), True, False)\n",
        "data = data.drop([\"close_up_diff\", \"close_down_diff\"], axis=1)\n",
        "data[\"aboveup1%_or_belowdown1%\"] = np.where((data[\"closeaboveup1%\"]) | (data[\"closebelowdown1%\"]), True, False)\n",
        "#data.tail(3)\n",
        "data = data.loc[(data.buycumsum >= 1) & (data.buy == False) & (data[\"aboveup1%_or_belowdown1%\"] == True)]\n",
        "#data.head(3)\n",
        "data = data.loc[(data.buycumsum >= 1) & (data.buy == False) & (data[\"aboveup1%_or_belowdown1%\"] == True)]\n",
        "data.head(3)\n",
        "\n",
        "# exit and sell stock everytime a one percent loss is realized or exit and sell stock everytime a one percent gain is realized\n",
        "data.to_csv('out.csv', index=False)\n",
        "data = pd.read_csv('out.csv')\n",
        "data = data.drop_duplicates(subset=\"buycumsum\",inplace=False)\n",
        "print(\"\\n\\n\"+str(data[\"closeaboveup1%\"].sum()))\n",
        "print(\"\\n\"+str(data[\"closebelowdown1%\"].sum()))\n",
        "\n",
        "# Saudi Telecom Company (7010.SR)\n",
        "ticker = \"7010.SR\"\n",
        "data = yf.download(ticker, start=\"2010-01-01\", end=\"2025-01-24\")\n",
        "data[\"prv_low_1\"] = data[\"Low\"].shift(1)\n",
        "data[\"prv_low_2\"] = data[\"Low\"].shift(2)\n",
        "data[\"prv_low_3\"] = data[\"Low\"].shift(3)\n",
        "data[\"prv_low_4\"] = data[\"Low\"].shift(4)\n",
        "data[\"prv_low_5\"] = data[\"Low\"].shift(5)\n",
        "data[\"Low_Last_5d\"] = data[[\"prv_low_1\", \"prv_low_2\",\"prv_low_3\",\"prv_low_4\",\"prv_low_5\"]].values.min(1)\n",
        "data = data.drop([\"prv_low_1\", \"prv_low_2\", \"prv_low_3\", \"prv_low_4\", \"prv_low_5\"], axis=1)\n",
        "data['prv_high_1'] = data[\"High\"].shift(1)\n",
        "data['prv_high_2'] = data[\"High\"].shift(2)\n",
        "data['prv_high_3'] = data[\"High\"].shift(3)\n",
        "data['prv_high_4'] = data[\"High\"].shift(4)\n",
        "data['prv_high_5'] = data[\"High\"].shift(5)\n",
        "data[\"High_Last_5d\"] = data[[\"prv_high_1\", \"prv_high_2\",\"prv_high_3\",\"prv_high_4\",\"prv_high_5\"]].values.max(1)\n",
        "data = data.drop([\"prv_high_1\", \"prv_high_2\", \"prv_high_3\", \"prv_high_4\", \"prv_high_5\"], axis=1)\n",
        "data[\"seven_percent_of_close_price\"] = .93*data[\"Close\"]\n",
        "data[\"Close\"] = 1*data[\"Close\"]\n",
        "data[\"seven_percent_of_close_price_within_last_five_days\"] = np.where((data['Low_Last_5d'] <= data['seven_percent_of_close_price']) & (data['seven_percent_of_close_price'] <= data['High_Last_5d']), True, False)\n",
        "data[\"Last_Close\"] = data[\"Close\"].shift(1)\n",
        "data[\"close_diff\"] = data[\"Close\"].values.reshape(data.shape[0]) - data[\"Last_Close\"].values.reshape(data.shape[0])\n",
        "data[\"up_from_yesterday\"] = np.where((data[\"close_diff\"] > 0), True, False)\n",
        "data[\"buy\"] = data[\"seven_percent_of_close_price_within_last_five_days\"] & data[\"up_from_yesterday\"]\n",
        "data[\"buycumsum\"] = data[\"buy\"].cumsum().astype('int64')\n",
        "data = data.drop([\"Last_Close\",\"close_diff\",\"seven_percent_of_close_price\"], axis=1)\n",
        "data[\"Close_up1%\"] = 1.01*data[\"Close\"]\n",
        "data[\"Close_down1%\"] = .99*data[\"Close\"]\n",
        "data.loc[(data.buy == False), 'Close_up1%'] = np.nan\n",
        "data.loc[(data.buy == False), 'Close_down1%'] = np.nan\n",
        "data[\"Close_up1%\"] = data[\"Close_up1%\"].ffill()\n",
        "data[\"Close_down1%\"] = data[\"Close_down1%\"].ffill()\n",
        "data = data.drop([\"Low_Last_5d\", \"High_Last_5d\", \"seven_percent_of_close_price_within_last_five_days\", \"up_from_yesterday\", \"High\", \"Low\"], axis=1)\n",
        "data[\"close_up_diff\"] = data[\"Close\"].values.reshape(data.shape[0]) - data[\"Close_up1%\"].values.reshape(data.shape[0])\n",
        "data[\"closeaboveup1%\"] = np.where((data[\"close_up_diff\"] > 0), True, False)\n",
        "data[\"close_down_diff\"] = data[\"Close\"].values.reshape(data.shape[0]) - data[\"Close_down1%\"].values.reshape(data.shape[0])\n",
        "data[\"closebelowdown1%\"] = np.where((data[\"close_down_diff\"] < 0), True, False)\n",
        "data = data.drop([\"close_up_diff\", \"close_down_diff\"], axis=1)\n",
        "data[\"aboveup1%_or_belowdown1%\"] = np.where((data[\"closeaboveup1%\"]) | (data[\"closebelowdown1%\"]), True, False)\n",
        "#data.tail(3)\n",
        "data = data.loc[(data.buycumsum >= 1) & (data.buy == False) & (data[\"aboveup1%_or_belowdown1%\"] == True)]\n",
        "#data.head(3)\n",
        "data = data.loc[(data.buycumsum >= 1) & (data.buy == False) & (data[\"aboveup1%_or_belowdown1%\"] == True)]\n",
        "#data.head(3)\n",
        "data.to_csv('out.csv', index=False)\n",
        "data = pd.read_csv('out.csv')\n",
        "data = data.drop_duplicates(subset=\"buycumsum\",inplace=False)\n",
        "print(\"\\n\\n\"+str(data[\"closeaboveup1%\"].sum()))\n",
        "print(\"\\n\"+str(data[\"closebelowdown1%\"].sum()))\n",
        "\n",
        "# Al Rajhi Banking and Investment Corporation (1120.SR)\n",
        "ticker = \"1120.SR\"\n",
        "data = yf.download(ticker, start=\"2010-01-01\", end=\"2025-01-24\")\n",
        "data[\"prv_low_1\"] = data[\"Low\"].shift(1)\n",
        "data[\"prv_low_2\"] = data[\"Low\"].shift(2)\n",
        "data[\"prv_low_3\"] = data[\"Low\"].shift(3)\n",
        "data[\"prv_low_4\"] = data[\"Low\"].shift(4)\n",
        "data[\"prv_low_5\"] = data[\"Low\"].shift(5)\n",
        "data[\"Low_Last_5d\"] = data[[\"prv_low_1\", \"prv_low_2\",\"prv_low_3\",\"prv_low_4\",\"prv_low_5\"]].values.min(1)\n",
        "data = data.drop([\"prv_low_1\", \"prv_low_2\", \"prv_low_3\", \"prv_low_4\", \"prv_low_5\"], axis=1)\n",
        "data['prv_high_1'] = data[\"High\"].shift(1)\n",
        "data['prv_high_2'] = data[\"High\"].shift(2)\n",
        "data['prv_high_3'] = data[\"High\"].shift(3)\n",
        "data['prv_high_4'] = data[\"High\"].shift(4)\n",
        "data['prv_high_5'] = data[\"High\"].shift(5)\n",
        "data[\"High_Last_5d\"] = data[[\"prv_high_1\", \"prv_high_2\",\"prv_high_3\",\"prv_high_4\",\"prv_high_5\"]].values.max(1)\n",
        "data = data.drop([\"prv_high_1\", \"prv_high_2\", \"prv_high_3\", \"prv_high_4\", \"prv_high_5\"], axis=1)\n",
        "data[\"seven_percent_of_close_price\"] = .93*data[\"Close\"]\n",
        "data[\"Close\"] = 1*data[\"Close\"]\n",
        "data[\"seven_percent_of_close_price_within_last_five_days\"] = np.where((data['Low_Last_5d'] <= data['seven_percent_of_close_price']) & (data['seven_percent_of_close_price'] <= data['High_Last_5d']), True, False)\n",
        "data[\"Last_Close\"] = data[\"Close\"].shift(1)\n",
        "data[\"close_diff\"] = data[\"Close\"].values.reshape(data.shape[0]) - data[\"Last_Close\"].values.reshape(data.shape[0])\n",
        "data[\"up_from_yesterday\"] = np.where((data[\"close_diff\"] > 0), True, False)\n",
        "data[\"buy\"] = data[\"seven_percent_of_close_price_within_last_five_days\"] & data[\"up_from_yesterday\"]\n",
        "data[\"buycumsum\"] = data[\"buy\"].cumsum().astype('int64')\n",
        "data = data.drop([\"Last_Close\",\"close_diff\",\"seven_percent_of_close_price\"], axis=1)\n",
        "data[\"Close_up1%\"] = 1.01*data[\"Close\"]\n",
        "data[\"Close_down1%\"] = .99*data[\"Close\"]\n",
        "data.loc[(data.buy == False), 'Close_up1%'] = np.nan\n",
        "data.loc[(data.buy == False), 'Close_down1%'] = np.nan\n",
        "data[\"Close_up1%\"] = data[\"Close_up1%\"].ffill()\n",
        "data[\"Close_down1%\"] = data[\"Close_down1%\"].ffill()\n",
        "data = data.drop([\"Low_Last_5d\", \"High_Last_5d\", \"seven_percent_of_close_price_within_last_five_days\", \"up_from_yesterday\", \"High\", \"Low\"], axis=1)\n",
        "data[\"close_up_diff\"] = data[\"Close\"].values.reshape(data.shape[0]) - data[\"Close_up1%\"].values.reshape(data.shape[0])\n",
        "data[\"closeaboveup1%\"] = np.where((data[\"close_up_diff\"] > 0), True, False)\n",
        "data[\"close_down_diff\"] = data[\"Close\"].values.reshape(data.shape[0]) - data[\"Close_down1%\"].values.reshape(data.shape[0])\n",
        "data[\"closebelowdown1%\"] = np.where((data[\"close_down_diff\"] < 0), True, False)\n",
        "data = data.drop([\"close_up_diff\", \"close_down_diff\"], axis=1)\n",
        "data[\"aboveup1%_or_belowdown1%\"] = np.where((data[\"closeaboveup1%\"]) | (data[\"closebelowdown1%\"]), True, False)\n",
        "#data.tail(3)\n",
        "data = data.loc[(data.buycumsum >= 1) & (data.buy == False) & (data[\"aboveup1%_or_belowdown1%\"] == True)]\n",
        "#data.head(3)\n",
        "data = data.loc[(data.buycumsum >= 1) & (data.buy == False) & (data[\"aboveup1%_or_belowdown1%\"] == True)]\n",
        "#data.head(3)\n",
        "data.to_csv('out.csv', index=False)\n",
        "data = pd.read_csv('out.csv')\n",
        "data = data.drop_duplicates(subset=\"buycumsum\",inplace=False)\n",
        "print(\"\\n\\n\"+str(data[\"closeaboveup1%\"].sum()))\n",
        "print(\"\\n\"+str(data[\"closebelowdown1%\"].sum()))\n",
        "\n",
        "# Saudi Basic Industries Corporation (2010.SR)\n",
        "ticker = \"2010.SR\"\n",
        "data = yf.download(ticker, start=\"2010-01-01\", end=\"2025-01-24\")\n",
        "data[\"prv_low_1\"] = data[\"Low\"].shift(1)\n",
        "data[\"prv_low_2\"] = data[\"Low\"].shift(2)\n",
        "data[\"prv_low_3\"] = data[\"Low\"].shift(3)\n",
        "data[\"prv_low_4\"] = data[\"Low\"].shift(4)\n",
        "data[\"prv_low_5\"] = data[\"Low\"].shift(5)\n",
        "data[\"Low_Last_5d\"] = data[[\"prv_low_1\", \"prv_low_2\",\"prv_low_3\",\"prv_low_4\",\"prv_low_5\"]].values.min(1)\n",
        "data = data.drop([\"prv_low_1\", \"prv_low_2\", \"prv_low_3\", \"prv_low_4\", \"prv_low_5\"], axis=1)\n",
        "data['prv_high_1'] = data[\"High\"].shift(1)\n",
        "data['prv_high_2'] = data[\"High\"].shift(2)\n",
        "data['prv_high_3'] = data[\"High\"].shift(3)\n",
        "data['prv_high_4'] = data[\"High\"].shift(4)\n",
        "data['prv_high_5'] = data[\"High\"].shift(5)\n",
        "data[\"High_Last_5d\"] = data[[\"prv_high_1\", \"prv_high_2\",\"prv_high_3\",\"prv_high_4\",\"prv_high_5\"]].values.max(1)\n",
        "data = data.drop([\"prv_high_1\", \"prv_high_2\", \"prv_high_3\", \"prv_high_4\", \"prv_high_5\"], axis=1)\n",
        "data[\"seven_percent_of_close_price\"] = .93*data[\"Close\"]\n",
        "data[\"Close\"] = 1*data[\"Close\"]\n",
        "data[\"seven_percent_of_close_price_within_last_five_days\"] = np.where((data['Low_Last_5d'] <= data['seven_percent_of_close_price']) & (data['seven_percent_of_close_price'] <= data['High_Last_5d']), True, False)\n",
        "data[\"Last_Close\"] = data[\"Close\"].shift(1)\n",
        "data[\"close_diff\"] = data[\"Close\"].values.reshape(data.shape[0]) - data[\"Last_Close\"].values.reshape(data.shape[0])\n",
        "data[\"up_from_yesterday\"] = np.where((data[\"close_diff\"] > 0), True, False)\n",
        "data[\"buy\"] = data[\"seven_percent_of_close_price_within_last_five_days\"] & data[\"up_from_yesterday\"]\n",
        "data[\"buycumsum\"] = data[\"buy\"].cumsum().astype('int64')\n",
        "data = data.drop([\"Last_Close\",\"close_diff\",\"seven_percent_of_close_price\"], axis=1)\n",
        "data[\"Close_up1%\"] = 1.01*data[\"Close\"]\n",
        "data[\"Close_down1%\"] = .99*data[\"Close\"]\n",
        "data.loc[(data.buy == False), 'Close_up1%'] = np.nan\n",
        "data.loc[(data.buy == False), 'Close_down1%'] = np.nan\n",
        "data[\"Close_up1%\"] = data[\"Close_up1%\"].ffill()\n",
        "data[\"Close_down1%\"] = data[\"Close_down1%\"].ffill()\n",
        "data = data.drop([\"Low_Last_5d\", \"High_Last_5d\", \"seven_percent_of_close_price_within_last_five_days\", \"up_from_yesterday\", \"High\", \"Low\"], axis=1)\n",
        "data[\"close_up_diff\"] = data[\"Close\"].values.reshape(data.shape[0]) - data[\"Close_up1%\"].values.reshape(data.shape[0])\n",
        "data[\"closeaboveup1%\"] = np.where((data[\"close_up_diff\"] > 0), True, False)\n",
        "data[\"close_down_diff\"] = data[\"Close\"].values.reshape(data.shape[0]) - data[\"Close_down1%\"].values.reshape(data.shape[0])\n",
        "data[\"closebelowdown1%\"] = np.where((data[\"close_down_diff\"] < 0), True, False)\n",
        "data = data.drop([\"close_up_diff\", \"close_down_diff\"], axis=1)\n",
        "data[\"aboveup1%_or_belowdown1%\"] = np.where((data[\"closeaboveup1%\"]) | (data[\"closebelowdown1%\"]), True, False)\n",
        "#data.tail(3)\n",
        "data = data.loc[(data.buycumsum >= 1) & (data.buy == False) & (data[\"aboveup1%_or_belowdown1%\"] == True)]\n",
        "#data.head(3)\n",
        "data = data.loc[(data.buycumsum >= 1) & (data.buy == False) & (data[\"aboveup1%_or_belowdown1%\"] == True)]\n",
        "#data.head(3)\n",
        "data.to_csv('out.csv', index=False)\n",
        "data = pd.read_csv('out.csv')\n",
        "data = data.drop_duplicates(subset=\"buycumsum\",inplace=False)\n",
        "print(\"\\n\\n\"+str(data[\"closeaboveup1%\"].sum()))\n",
        "print(\"\\n\"+str(data[\"closebelowdown1%\"].sum()))\n",
        "\n",
        "# Alinma Bank (1150.SR)\n",
        "ticker = \"1150.SR\"\n",
        "data = yf.download(ticker, start=\"2010-01-01\", end=\"2025-01-24\")\n",
        "data[\"prv_low_1\"] = data[\"Low\"].shift(1)\n",
        "data[\"prv_low_2\"] = data[\"Low\"].shift(2)\n",
        "data[\"prv_low_3\"] = data[\"Low\"].shift(3)\n",
        "data[\"prv_low_4\"] = data[\"Low\"].shift(4)\n",
        "data[\"prv_low_5\"] = data[\"Low\"].shift(5)\n",
        "data[\"Low_Last_5d\"] = data[[\"prv_low_1\", \"prv_low_2\",\"prv_low_3\",\"prv_low_4\",\"prv_low_5\"]].values.min(1)\n",
        "data = data.drop([\"prv_low_1\", \"prv_low_2\", \"prv_low_3\", \"prv_low_4\", \"prv_low_5\"], axis=1)\n",
        "data['prv_high_1'] = data[\"High\"].shift(1)\n",
        "data['prv_high_2'] = data[\"High\"].shift(2)\n",
        "data['prv_high_3'] = data[\"High\"].shift(3)\n",
        "data['prv_high_4'] = data[\"High\"].shift(4)\n",
        "data['prv_high_5'] = data[\"High\"].shift(5)\n",
        "data[\"High_Last_5d\"] = data[[\"prv_high_1\", \"prv_high_2\",\"prv_high_3\",\"prv_high_4\",\"prv_high_5\"]].values.max(1)\n",
        "data = data.drop([\"prv_high_1\", \"prv_high_2\", \"prv_high_3\", \"prv_high_4\", \"prv_high_5\"], axis=1)\n",
        "data[\"seven_percent_of_close_price\"] = .93*data[\"Close\"]\n",
        "data[\"Close\"] = 1*data[\"Close\"]\n",
        "data[\"seven_percent_of_close_price_within_last_five_days\"] = np.where((data['Low_Last_5d'] <= data['seven_percent_of_close_price']) & (data['seven_percent_of_close_price'] <= data['High_Last_5d']), True, False)\n",
        "data[\"Last_Close\"] = data[\"Close\"].shift(1)\n",
        "data[\"close_diff\"] = data[\"Close\"].values.reshape(data.shape[0]) - data[\"Last_Close\"].values.reshape(data.shape[0])\n",
        "data[\"up_from_yesterday\"] = np.where((data[\"close_diff\"] > 0), True, False)\n",
        "data[\"buy\"] = data[\"seven_percent_of_close_price_within_last_five_days\"] & data[\"up_from_yesterday\"]\n",
        "data[\"buycumsum\"] = data[\"buy\"].cumsum().astype('int64')\n",
        "data = data.drop([\"Last_Close\",\"close_diff\",\"seven_percent_of_close_price\"], axis=1)\n",
        "data[\"Close_up1%\"] = 1.01*data[\"Close\"]\n",
        "data[\"Close_down1%\"] = .99*data[\"Close\"]\n",
        "data.loc[(data.buy == False), 'Close_up1%'] = np.nan\n",
        "data.loc[(data.buy == False), 'Close_down1%'] = np.nan\n",
        "data[\"Close_up1%\"] = data[\"Close_up1%\"].ffill()\n",
        "data[\"Close_down1%\"] = data[\"Close_down1%\"].ffill()\n",
        "data = data.drop([\"Low_Last_5d\", \"High_Last_5d\", \"seven_percent_of_close_price_within_last_five_days\", \"up_from_yesterday\", \"High\", \"Low\"], axis=1)\n",
        "data[\"close_up_diff\"] = data[\"Close\"].values.reshape(data.shape[0]) - data[\"Close_up1%\"].values.reshape(data.shape[0])\n",
        "data[\"closeaboveup1%\"] = np.where((data[\"close_up_diff\"] > 0), True, False)\n",
        "data[\"close_down_diff\"] = data[\"Close\"].values.reshape(data.shape[0]) - data[\"Close_down1%\"].values.reshape(data.shape[0])\n",
        "data[\"closebelowdown1%\"] = np.where((data[\"close_down_diff\"] < 0), True, False)\n",
        "data = data.drop([\"close_up_diff\", \"close_down_diff\"], axis=1)\n",
        "data[\"aboveup1%_or_belowdown1%\"] = np.where((data[\"closeaboveup1%\"]) | (data[\"closebelowdown1%\"]), True, False)\n",
        "#data.tail(3)\n",
        "data = data.loc[(data.buycumsum >= 1) & (data.buy == False) & (data[\"aboveup1%_or_belowdown1%\"] == True)]\n",
        "#data.head(3)\n",
        "data = data.loc[(data.buycumsum >= 1) & (data.buy == False) & (data[\"aboveup1%_or_belowdown1%\"] == True)]\n",
        "#data.head(3)\n",
        "data.to_csv('out.csv', index=False)\n",
        "data = pd.read_csv('out.csv')\n",
        "data = data.drop_duplicates(subset=\"buycumsum\",inplace=False)\n",
        "print(\"\\n\\n\"+str(data[\"closeaboveup1%\"].sum()))\n",
        "print(\"\\n\"+str(data[\"closebelowdown1%\"].sum()))\n",
        "\n",
        "# Jarir Marketing Company (4190.SR)\n",
        "ticker = \"4190.SR\"\n",
        "data = yf.download(ticker, start=\"2010-01-01\", end=\"2025-01-24\")\n",
        "data[\"prv_low_1\"] = data[\"Low\"].shift(1)\n",
        "data[\"prv_low_2\"] = data[\"Low\"].shift(2)\n",
        "data[\"prv_low_3\"] = data[\"Low\"].shift(3)\n",
        "data[\"prv_low_4\"] = data[\"Low\"].shift(4)\n",
        "data[\"prv_low_5\"] = data[\"Low\"].shift(5)\n",
        "data[\"Low_Last_5d\"] = data[[\"prv_low_1\", \"prv_low_2\",\"prv_low_3\",\"prv_low_4\",\"prv_low_5\"]].values.min(1)\n",
        "data = data.drop([\"prv_low_1\", \"prv_low_2\", \"prv_low_3\", \"prv_low_4\", \"prv_low_5\"], axis=1)\n",
        "data['prv_high_1'] = data[\"High\"].shift(1)\n",
        "data['prv_high_2'] = data[\"High\"].shift(2)\n",
        "data['prv_high_3'] = data[\"High\"].shift(3)\n",
        "data['prv_high_4'] = data[\"High\"].shift(4)\n",
        "data['prv_high_5'] = data[\"High\"].shift(5)\n",
        "data[\"High_Last_5d\"] = data[[\"prv_high_1\", \"prv_high_2\",\"prv_high_3\",\"prv_high_4\",\"prv_high_5\"]].values.max(1)\n",
        "data = data.drop([\"prv_high_1\", \"prv_high_2\", \"prv_high_3\", \"prv_high_4\", \"prv_high_5\"], axis=1)\n",
        "data[\"seven_percent_of_close_price\"] = .93*data[\"Close\"]\n",
        "data[\"Close\"] = 1*data[\"Close\"]\n",
        "data[\"seven_percent_of_close_price_within_last_five_days\"] = np.where((data['Low_Last_5d'] <= data['seven_percent_of_close_price']) & (data['seven_percent_of_close_price'] <= data['High_Last_5d']), True, False)\n",
        "data[\"Last_Close\"] = data[\"Close\"].shift(1)\n",
        "data[\"close_diff\"] = data[\"Close\"].values.reshape(data.shape[0]) - data[\"Last_Close\"].values.reshape(data.shape[0])\n",
        "data[\"up_from_yesterday\"] = np.where((data[\"close_diff\"] > 0), True, False)\n",
        "data[\"buy\"] = data[\"seven_percent_of_close_price_within_last_five_days\"] & data[\"up_from_yesterday\"]\n",
        "data[\"buycumsum\"] = data[\"buy\"].cumsum().astype('int64')\n",
        "data = data.drop([\"Last_Close\",\"close_diff\",\"seven_percent_of_close_price\"], axis=1)\n",
        "data[\"Close_up1%\"] = 1.01*data[\"Close\"]\n",
        "data[\"Close_down1%\"] = .99*data[\"Close\"]\n",
        "data.loc[(data.buy == False), 'Close_up1%'] = np.nan\n",
        "data.loc[(data.buy == False), 'Close_down1%'] = np.nan\n",
        "data[\"Close_up1%\"] = data[\"Close_up1%\"].ffill()\n",
        "data[\"Close_down1%\"] = data[\"Close_down1%\"].ffill()\n",
        "data = data.drop([\"Low_Last_5d\", \"High_Last_5d\", \"seven_percent_of_close_price_within_last_five_days\", \"up_from_yesterday\", \"High\", \"Low\"], axis=1)\n",
        "data[\"close_up_diff\"] = data[\"Close\"].values.reshape(data.shape[0]) - data[\"Close_up1%\"].values.reshape(data.shape[0])\n",
        "data[\"closeaboveup1%\"] = np.where((data[\"close_up_diff\"] > 0), True, False)\n",
        "data[\"close_down_diff\"] = data[\"Close\"].values.reshape(data.shape[0]) - data[\"Close_down1%\"].values.reshape(data.shape[0])\n",
        "data[\"closebelowdown1%\"] = np.where((data[\"close_down_diff\"] < 0), True, False)\n",
        "data = data.drop([\"close_up_diff\", \"close_down_diff\"], axis=1)\n",
        "data[\"aboveup1%_or_belowdown1%\"] = np.where((data[\"closeaboveup1%\"]) | (data[\"closebelowdown1%\"]), True, False)\n",
        "#data.tail(3)\n",
        "data = data.loc[(data.buycumsum >= 1) & (data.buy == False) & (data[\"aboveup1%_or_belowdown1%\"] == True)]\n",
        "#data.head(3)\n",
        "data = data.loc[(data.buycumsum >= 1) & (data.buy == False) & (data[\"aboveup1%_or_belowdown1%\"] == True)]\n",
        "#data.head(3)\n",
        "data.to_csv('out.csv', index=False)\n",
        "data = pd.read_csv('out.csv')\n",
        "data = data.drop_duplicates(subset=\"buycumsum\",inplace=False)\n",
        "print(\"\\n\\n\"+str(data[\"closeaboveup1%\"].sum()))\n",
        "print(\"\\n\"+str(data[\"closebelowdown1%\"].sum()))"
      ],
      "metadata": {
        "colab": {
          "base_uri": "https://localhost:8080/"
        },
        "id": "f_ahYebVkHrH",
        "outputId": "7b5e29c2-c7ba-4ad2-d71d-6034e4a9b6e8"
      },
      "execution_count": 39,
      "outputs": [
        {
          "output_type": "stream",
          "name": "stderr",
          "text": [
            "\r[*********************100%***********************]  1 of 1 completed\n"
          ]
        },
        {
          "output_type": "stream",
          "name": "stdout",
          "text": [
            "\n",
            "\n",
            "8\n",
            "\n",
            "18\n"
          ]
        },
        {
          "output_type": "stream",
          "name": "stderr",
          "text": [
            "\r[*********************100%***********************]  1 of 1 completed\n"
          ]
        },
        {
          "output_type": "stream",
          "name": "stdout",
          "text": [
            "\n",
            "\n",
            "10\n",
            "\n",
            "47\n"
          ]
        },
        {
          "output_type": "stream",
          "name": "stderr",
          "text": [
            "\r[*********************100%***********************]  1 of 1 completed\n"
          ]
        },
        {
          "output_type": "stream",
          "name": "stdout",
          "text": [
            "\n",
            "\n",
            "19\n",
            "\n",
            "57\n"
          ]
        },
        {
          "output_type": "stream",
          "name": "stderr",
          "text": [
            "\r[*********************100%***********************]  1 of 1 completed\n"
          ]
        },
        {
          "output_type": "stream",
          "name": "stdout",
          "text": [
            "\n",
            "\n",
            "5\n",
            "\n",
            "52\n"
          ]
        },
        {
          "output_type": "stream",
          "name": "stderr",
          "text": [
            "\r[*********************100%***********************]  1 of 1 completed\n"
          ]
        },
        {
          "output_type": "stream",
          "name": "stdout",
          "text": [
            "\n",
            "\n",
            "12\n",
            "\n",
            "79\n"
          ]
        },
        {
          "output_type": "stream",
          "name": "stderr",
          "text": [
            "\r[*********************100%***********************]  1 of 1 completed\n"
          ]
        },
        {
          "output_type": "stream",
          "name": "stdout",
          "text": [
            "\n",
            "\n",
            "13\n",
            "\n",
            "55\n"
          ]
        }
      ]
    },
    {
      "cell_type": "code",
      "source": [
        "saudi_tickers = [1010,1020,1030,1050,1060,1080,1111,1120,1140,1150,1180,1182,1183,1201,1202,1210,1211,1212,1213,1214,1301,1302,1303,1304,1320,1321,1322,1810,1820,1830,1831,1832,1833,1834,1835,2001,2010,2020,2030,2040,2050,2060,2070,2080,2081,2082,2083,2084,2090,2100,2110,2120,2130,2140,2150,2160,2170,2180,2190,2200,2210,2220,2222,2223,2230,2240,2250,2270,2280,2281,2282,2283,2284,2285,2286,2290,2300,2310,2320,2330,2340,2350,2360,2370,2380,2381,2382,3002,3003,3004,3005,3007,3008,3010,3020,3030,3040,3050,3060,3080]\n",
        "for numerical_part in saudi_tickers:\n",
        "  ticker = str(numerical_part)\n",
        "  ticker += '.'\n",
        "  ticker += 'S'\n",
        "  ticker += 'R'\n",
        "  data = yf.download(ticker, start=\"2010-01-01\", end=\"2025-01-24\")\n",
        "  data[\"prv_low_1\"] = data[\"Low\"].shift(1)\n",
        "  data[\"prv_low_2\"] = data[\"Low\"].shift(2)\n",
        "  data[\"prv_low_3\"] = data[\"Low\"].shift(3)\n",
        "  data[\"prv_low_4\"] = data[\"Low\"].shift(4)\n",
        "  data[\"prv_low_5\"] = data[\"Low\"].shift(5)\n",
        "  data[\"Low_Last_5d\"] = data[[\"prv_low_1\", \"prv_low_2\",\"prv_low_3\",\"prv_low_4\",\"prv_low_5\"]].values.min(1)\n",
        "  data = data.drop([\"prv_low_1\", \"prv_low_2\", \"prv_low_3\", \"prv_low_4\", \"prv_low_5\"], axis=1)\n",
        "  data['prv_high_1'] = data[\"High\"].shift(1)\n",
        "  data['prv_high_2'] = data[\"High\"].shift(2)\n",
        "  data['prv_high_3'] = data[\"High\"].shift(3)\n",
        "  data['prv_high_4'] = data[\"High\"].shift(4)\n",
        "  data['prv_high_5'] = data[\"High\"].shift(5)\n",
        "  data[\"High_Last_5d\"] = data[[\"prv_high_1\", \"prv_high_2\",\"prv_high_3\",\"prv_high_4\",\"prv_high_5\"]].values.max(1)\n",
        "  data = data.drop([\"prv_high_1\", \"prv_high_2\", \"prv_high_3\", \"prv_high_4\", \"prv_high_5\"], axis=1)\n",
        "  data[\"seven_percent_of_close_price\"] = .93*data[\"Close\"]\n",
        "  data[\"Close\"] = 1*data[\"Close\"]\n",
        "  data[\"seven_percent_of_close_price_within_last_five_days\"] = np.where((data['Low_Last_5d'] <= data['seven_percent_of_close_price']) & (data['seven_percent_of_close_price'] <= data['High_Last_5d']), True, False)\n",
        "  data[\"Last_Close\"] = data[\"Close\"].shift(1)\n",
        "  data[\"close_diff\"] = data[\"Close\"].values.reshape(data.shape[0]) - data[\"Last_Close\"].values.reshape(data.shape[0])\n",
        "  data[\"up_from_yesterday\"] = np.where((data[\"close_diff\"] > 0), True, False)\n",
        "  data[\"buy\"] = data[\"seven_percent_of_close_price_within_last_five_days\"] & data[\"up_from_yesterday\"]\n",
        "  data[\"buycumsum\"] = data[\"buy\"].cumsum().astype('int64')\n",
        "  data = data.drop([\"Last_Close\",\"close_diff\",\"seven_percent_of_close_price\"], axis=1)\n",
        "  data[\"Close_up1%\"] = 1.01*data[\"Close\"]\n",
        "  data[\"Close_down1%\"] = .99*data[\"Close\"]\n",
        "  data.loc[(data.buy == False), 'Close_up1%'] = np.nan\n",
        "  data.loc[(data.buy == False), 'Close_down1%'] = np.nan\n",
        "  data[\"Close_up1%\"] = data[\"Close_up1%\"].ffill()\n",
        "  data[\"Close_down1%\"] = data[\"Close_down1%\"].ffill()\n",
        "  data = data.drop([\"Low_Last_5d\", \"High_Last_5d\", \"seven_percent_of_close_price_within_last_five_days\", \"up_from_yesterday\", \"High\", \"Low\"], axis=1)\n",
        "  data[\"close_up_diff\"] = data[\"Close\"].values.reshape(data.shape[0]) - data[\"Close_up1%\"].values.reshape(data.shape[0])\n",
        "  data[\"closeaboveup1%\"] = np.where((data[\"close_up_diff\"] > 0), True, False)\n",
        "  data[\"close_down_diff\"] = data[\"Close\"].values.reshape(data.shape[0]) - data[\"Close_down1%\"].values.reshape(data.shape[0])\n",
        "  data[\"closebelowdown1%\"] = np.where((data[\"close_down_diff\"] < 0), True, False)\n",
        "  data = data.drop([\"close_up_diff\", \"close_down_diff\"], axis=1)\n",
        "  data[\"aboveup1%_or_belowdown1%\"] = np.where((data[\"closeaboveup1%\"]) | (data[\"closebelowdown1%\"]), True, False)\n",
        "  #data.tail(3)\n",
        "  data = data.loc[(data.buycumsum >= 1) & (data.buy == False) & (data[\"aboveup1%_or_belowdown1%\"] == True)]\n",
        "  #data.head(3)\n",
        "  data = data.loc[(data.buycumsum >= 1) & (data.buy == False) & (data[\"aboveup1%_or_belowdown1%\"] == True)]\n",
        "  #data.head(3)\n",
        "\n",
        "  # exit and sell stock everytime a one percent loss is realized or exit and sell stock everytime a one percent gain is realized\n",
        "  data.to_csv('out.csv', index=False)\n",
        "  data = pd.read_csv('out.csv')\n",
        "  data = data.drop_duplicates(subset=\"buycumsum\",inplace=False)\n",
        "  print(\"\\n\\n\"+ticker)\n",
        "  print(\"\\n\"+str(data[\"closeaboveup1%\"].sum()))\n",
        "  print(\"\\n\"+str(data[\"closebelowdown1%\"].sum()))"
      ],
      "metadata": {
        "colab": {
          "base_uri": "https://localhost:8080/"
        },
        "id": "hRR9p0qGgm3A",
        "outputId": "d4dbcdcf-f212-488e-893a-63a282314aaf"
      },
      "execution_count": 38,
      "outputs": [
        {
          "output_type": "stream",
          "name": "stderr",
          "text": [
            "\r[*********************100%***********************]  1 of 1 completed\n"
          ]
        },
        {
          "output_type": "stream",
          "name": "stdout",
          "text": [
            "\n",
            "\n",
            "1010.SR\n",
            "\n",
            "13\n",
            "\n",
            "68\n"
          ]
        },
        {
          "output_type": "stream",
          "name": "stderr",
          "text": [
            "\r[*********************100%***********************]  1 of 1 completed\n"
          ]
        },
        {
          "output_type": "stream",
          "name": "stdout",
          "text": [
            "\n",
            "\n",
            "1020.SR\n",
            "\n",
            "12\n",
            "\n",
            "97\n"
          ]
        },
        {
          "output_type": "stream",
          "name": "stderr",
          "text": [
            "\r[*********************100%***********************]  1 of 1 completed\n"
          ]
        },
        {
          "output_type": "stream",
          "name": "stdout",
          "text": [
            "\n",
            "\n",
            "1030.SR\n",
            "\n",
            "10\n",
            "\n",
            "58\n"
          ]
        },
        {
          "output_type": "stream",
          "name": "stderr",
          "text": [
            "\r[*********************100%***********************]  1 of 1 completed\n"
          ]
        },
        {
          "output_type": "stream",
          "name": "stdout",
          "text": [
            "\n",
            "\n",
            "1050.SR\n",
            "\n",
            "12\n",
            "\n",
            "115\n"
          ]
        },
        {
          "output_type": "stream",
          "name": "stderr",
          "text": [
            "\r[*********************100%***********************]  1 of 1 completed\n"
          ]
        },
        {
          "output_type": "stream",
          "name": "stdout",
          "text": [
            "\n",
            "\n",
            "1060.SR\n",
            "\n",
            "17\n",
            "\n",
            "104\n"
          ]
        },
        {
          "output_type": "stream",
          "name": "stderr",
          "text": [
            "[*********************100%***********************]  1 of 1 completed\n",
            "[*********************100%***********************]  1 of 1 completed"
          ]
        },
        {
          "output_type": "stream",
          "name": "stdout",
          "text": [
            "\n",
            "\n",
            "1080.SR\n",
            "\n",
            "14\n",
            "\n",
            "81\n"
          ]
        },
        {
          "output_type": "stream",
          "name": "stderr",
          "text": [
            "\n",
            "[*********************100%***********************]  1 of 1 completed"
          ]
        },
        {
          "output_type": "stream",
          "name": "stdout",
          "text": [
            "\n",
            "\n",
            "1111.SR\n",
            "\n",
            "5\n",
            "\n",
            "30\n"
          ]
        },
        {
          "output_type": "stream",
          "name": "stderr",
          "text": [
            "\n"
          ]
        },
        {
          "output_type": "stream",
          "name": "stdout",
          "text": [
            "\n",
            "\n",
            "1120.SR\n",
            "\n",
            "19\n",
            "\n",
            "57\n"
          ]
        },
        {
          "output_type": "stream",
          "name": "stderr",
          "text": [
            "[*********************100%***********************]  1 of 1 completed\n",
            "[*********************100%***********************]  1 of 1 completed"
          ]
        },
        {
          "output_type": "stream",
          "name": "stdout",
          "text": [
            "\n",
            "\n",
            "1140.SR\n",
            "\n",
            "12\n",
            "\n",
            "128\n"
          ]
        },
        {
          "output_type": "stream",
          "name": "stderr",
          "text": [
            "\n"
          ]
        },
        {
          "output_type": "stream",
          "name": "stdout",
          "text": [
            "\n",
            "\n",
            "1150.SR\n",
            "\n",
            "12\n",
            "\n",
            "79\n"
          ]
        },
        {
          "output_type": "stream",
          "name": "stderr",
          "text": [
            "[*********************100%***********************]  1 of 1 completed\n",
            "[*********************100%***********************]  1 of 1 completed"
          ]
        },
        {
          "output_type": "stream",
          "name": "stdout",
          "text": [
            "\n",
            "\n",
            "1180.SR\n",
            "\n",
            "4\n",
            "\n",
            "66\n"
          ]
        },
        {
          "output_type": "stream",
          "name": "stderr",
          "text": [
            "\n",
            "[*********************100%***********************]  1 of 1 completed"
          ]
        },
        {
          "output_type": "stream",
          "name": "stdout",
          "text": [
            "\n",
            "\n",
            "1182.SR\n",
            "\n",
            "0\n",
            "\n",
            "12\n"
          ]
        },
        {
          "output_type": "stream",
          "name": "stderr",
          "text": [
            "\n"
          ]
        },
        {
          "output_type": "stream",
          "name": "stdout",
          "text": [
            "\n",
            "\n",
            "1183.SR\n",
            "\n",
            "2\n",
            "\n",
            "9\n"
          ]
        },
        {
          "output_type": "stream",
          "name": "stderr",
          "text": [
            "\r[*********************100%***********************]  1 of 1 completed\n"
          ]
        },
        {
          "output_type": "stream",
          "name": "stdout",
          "text": [
            "\n",
            "\n",
            "1201.SR\n",
            "\n",
            "15\n",
            "\n",
            "133\n"
          ]
        },
        {
          "output_type": "stream",
          "name": "stderr",
          "text": [
            "\r[*********************100%***********************]  1 of 1 completed\n"
          ]
        },
        {
          "output_type": "stream",
          "name": "stdout",
          "text": [
            "\n",
            "\n",
            "1202.SR\n",
            "\n",
            "19\n",
            "\n",
            "86\n"
          ]
        },
        {
          "output_type": "stream",
          "name": "stderr",
          "text": [
            "[*********************100%***********************]  1 of 1 completed\n",
            "[*********************100%***********************]  1 of 1 completed"
          ]
        },
        {
          "output_type": "stream",
          "name": "stdout",
          "text": [
            "\n",
            "\n",
            "1210.SR\n",
            "\n",
            "20\n",
            "\n",
            "104\n"
          ]
        },
        {
          "output_type": "stream",
          "name": "stderr",
          "text": [
            "\n",
            "[*********************100%***********************]  1 of 1 completed"
          ]
        },
        {
          "output_type": "stream",
          "name": "stdout",
          "text": [
            "\n",
            "\n",
            "1211.SR\n",
            "\n",
            "24\n",
            "\n",
            "142\n"
          ]
        },
        {
          "output_type": "stream",
          "name": "stderr",
          "text": [
            "\n"
          ]
        },
        {
          "output_type": "stream",
          "name": "stdout",
          "text": [
            "\n",
            "\n",
            "1212.SR\n",
            "\n",
            "15\n",
            "\n",
            "158\n"
          ]
        },
        {
          "output_type": "stream",
          "name": "stderr",
          "text": [
            "[*********************100%***********************]  1 of 1 completed\n",
            "[*********************100%***********************]  1 of 1 completed"
          ]
        },
        {
          "output_type": "stream",
          "name": "stdout",
          "text": [
            "\n",
            "\n",
            "1213.SR\n",
            "\n",
            "26\n",
            "\n",
            "162\n"
          ]
        },
        {
          "output_type": "stream",
          "name": "stderr",
          "text": [
            "\n"
          ]
        },
        {
          "output_type": "stream",
          "name": "stdout",
          "text": [
            "\n",
            "\n",
            "1214.SR\n",
            "\n",
            "23\n",
            "\n",
            "138\n"
          ]
        },
        {
          "output_type": "stream",
          "name": "stderr",
          "text": [
            "[*********************100%***********************]  1 of 1 completed\n",
            "[*********************100%***********************]  1 of 1 completed"
          ]
        },
        {
          "output_type": "stream",
          "name": "stdout",
          "text": [
            "\n",
            "\n",
            "1301.SR\n",
            "\n",
            "16\n",
            "\n",
            "91\n"
          ]
        },
        {
          "output_type": "stream",
          "name": "stderr",
          "text": [
            "\n",
            "[*********************100%***********************]  1 of 1 completed"
          ]
        },
        {
          "output_type": "stream",
          "name": "stdout",
          "text": [
            "\n",
            "\n",
            "1302.SR\n",
            "\n",
            "15\n",
            "\n",
            "98\n"
          ]
        },
        {
          "output_type": "stream",
          "name": "stderr",
          "text": [
            "\n",
            "[*********************100%***********************]  1 of 1 completed"
          ]
        },
        {
          "output_type": "stream",
          "name": "stdout",
          "text": [
            "\n",
            "\n",
            "1303.SR\n",
            "\n",
            "17\n",
            "\n",
            "89\n"
          ]
        },
        {
          "output_type": "stream",
          "name": "stderr",
          "text": [
            "\n"
          ]
        },
        {
          "output_type": "stream",
          "name": "stdout",
          "text": [
            "\n",
            "\n",
            "1304.SR\n",
            "\n",
            "11\n",
            "\n",
            "83\n"
          ]
        },
        {
          "output_type": "stream",
          "name": "stderr",
          "text": [
            "[*********************100%***********************]  1 of 1 completed\n",
            "[*********************100%***********************]  1 of 1 completed"
          ]
        },
        {
          "output_type": "stream",
          "name": "stdout",
          "text": [
            "\n",
            "\n",
            "1320.SR\n",
            "\n",
            "21\n",
            "\n",
            "135\n"
          ]
        },
        {
          "output_type": "stream",
          "name": "stderr",
          "text": [
            "\n",
            "\r[*********************100%***********************]  1 of 1 completed\n"
          ]
        },
        {
          "output_type": "stream",
          "name": "stdout",
          "text": [
            "\n",
            "\n",
            "1321.SR\n",
            "\n",
            "6\n",
            "\n",
            "43\n",
            "\n",
            "\n",
            "1322.SR\n",
            "\n",
            "2\n",
            "\n",
            "18\n"
          ]
        },
        {
          "output_type": "stream",
          "name": "stderr",
          "text": [
            "\r[*********************100%***********************]  1 of 1 completed\n"
          ]
        },
        {
          "output_type": "stream",
          "name": "stdout",
          "text": [
            "\n",
            "\n",
            "1810.SR\n",
            "\n",
            "20\n",
            "\n",
            "131\n"
          ]
        },
        {
          "output_type": "stream",
          "name": "stderr",
          "text": [
            "\r[*********************100%***********************]  1 of 1 completed\n"
          ]
        },
        {
          "output_type": "stream",
          "name": "stdout",
          "text": [
            "\n",
            "\n",
            "1820.SR\n",
            "\n",
            "10\n",
            "\n",
            "91\n"
          ]
        },
        {
          "output_type": "stream",
          "name": "stderr",
          "text": [
            "[*********************100%***********************]  1 of 1 completed\n",
            "[*********************100%***********************]  1 of 1 completed"
          ]
        },
        {
          "output_type": "stream",
          "name": "stdout",
          "text": [
            "\n",
            "\n",
            "1830.SR\n",
            "\n",
            "10\n",
            "\n",
            "84\n"
          ]
        },
        {
          "output_type": "stream",
          "name": "stderr",
          "text": [
            "\n",
            "[*********************100%***********************]  1 of 1 completed"
          ]
        },
        {
          "output_type": "stream",
          "name": "stdout",
          "text": [
            "\n",
            "\n",
            "1831.SR\n",
            "\n",
            "10\n",
            "\n",
            "42\n",
            "\n",
            "\n",
            "1832.SR\n",
            "\n",
            "7\n",
            "\n",
            "36\n"
          ]
        },
        {
          "output_type": "stream",
          "name": "stderr",
          "text": [
            "\n",
            "[*********************100%***********************]  1 of 1 completed\n",
            "[*********************100%***********************]  1 of 1 completed\n"
          ]
        },
        {
          "output_type": "stream",
          "name": "stdout",
          "text": [
            "\n",
            "\n",
            "1833.SR\n",
            "\n",
            "2\n",
            "\n",
            "18\n",
            "\n",
            "\n",
            "1834.SR\n",
            "\n",
            "0\n",
            "\n",
            "5\n"
          ]
        },
        {
          "output_type": "stream",
          "name": "stderr",
          "text": [
            "[*********************100%***********************]  1 of 1 completed\n",
            "[*********************100%***********************]  1 of 1 completed"
          ]
        },
        {
          "output_type": "stream",
          "name": "stdout",
          "text": [
            "\n",
            "\n",
            "1835.SR\n",
            "\n",
            "0\n",
            "\n",
            "1\n"
          ]
        },
        {
          "output_type": "stream",
          "name": "stderr",
          "text": [
            "\n",
            "\r[*********************100%***********************]  1 of 1 completed\n"
          ]
        },
        {
          "output_type": "stream",
          "name": "stdout",
          "text": [
            "\n",
            "\n",
            "2001.SR\n",
            "\n",
            "18\n",
            "\n",
            "132\n",
            "\n",
            "\n",
            "2010.SR\n",
            "\n",
            "5\n",
            "\n",
            "52\n"
          ]
        },
        {
          "output_type": "stream",
          "name": "stderr",
          "text": [
            "\r[*********************100%***********************]  1 of 1 completed\n"
          ]
        },
        {
          "output_type": "stream",
          "name": "stdout",
          "text": [
            "\n",
            "\n",
            "2020.SR\n",
            "\n",
            "8\n",
            "\n",
            "66\n"
          ]
        },
        {
          "output_type": "stream",
          "name": "stderr",
          "text": [
            "[*********************100%***********************]  1 of 1 completed\n",
            "[*********************100%***********************]  1 of 1 completed"
          ]
        },
        {
          "output_type": "stream",
          "name": "stdout",
          "text": [
            "\n",
            "\n",
            "2030.SR\n",
            "\n",
            "23\n",
            "\n",
            "149\n"
          ]
        },
        {
          "output_type": "stream",
          "name": "stderr",
          "text": [
            "\n",
            "[*********************100%***********************]  1 of 1 completed"
          ]
        },
        {
          "output_type": "stream",
          "name": "stdout",
          "text": [
            "\n",
            "\n",
            "2040.SR\n",
            "\n",
            "21\n",
            "\n",
            "124\n"
          ]
        },
        {
          "output_type": "stream",
          "name": "stderr",
          "text": [
            "\n",
            "[*********************100%***********************]  1 of 1 completed"
          ]
        },
        {
          "output_type": "stream",
          "name": "stdout",
          "text": [
            "\n",
            "\n",
            "2050.SR\n",
            "\n",
            "16\n",
            "\n",
            "118\n"
          ]
        },
        {
          "output_type": "stream",
          "name": "stderr",
          "text": [
            "\n"
          ]
        },
        {
          "output_type": "stream",
          "name": "stdout",
          "text": [
            "\n",
            "\n",
            "2060.SR\n",
            "\n",
            "14\n",
            "\n",
            "121\n"
          ]
        },
        {
          "output_type": "stream",
          "name": "stderr",
          "text": [
            "\r[*********************100%***********************]  1 of 1 completed\n"
          ]
        },
        {
          "output_type": "stream",
          "name": "stdout",
          "text": [
            "\n",
            "\n",
            "2070.SR\n",
            "\n",
            "16\n",
            "\n",
            "109\n"
          ]
        },
        {
          "output_type": "stream",
          "name": "stderr",
          "text": [
            "[*********************100%***********************]  1 of 1 completed\n",
            "[*********************100%***********************]  1 of 1 completed"
          ]
        },
        {
          "output_type": "stream",
          "name": "stdout",
          "text": [
            "\n",
            "\n",
            "2080.SR\n",
            "\n",
            "8\n",
            "\n",
            "69\n"
          ]
        },
        {
          "output_type": "stream",
          "name": "stderr",
          "text": [
            "\n",
            "\r[*********************100%***********************]  1 of 1 completed\n"
          ]
        },
        {
          "output_type": "stream",
          "name": "stdout",
          "text": [
            "\n",
            "\n",
            "2081.SR\n",
            "\n",
            "3\n",
            "\n",
            "41\n",
            "\n",
            "\n",
            "2082.SR\n",
            "\n",
            "9\n",
            "\n",
            "41\n"
          ]
        },
        {
          "output_type": "stream",
          "name": "stderr",
          "text": [
            "[*********************100%***********************]  1 of 1 completed\n",
            "[*********************100%***********************]  1 of 1 completed\n"
          ]
        },
        {
          "output_type": "stream",
          "name": "stdout",
          "text": [
            "\n",
            "\n",
            "2083.SR\n",
            "\n",
            "0\n",
            "\n",
            "21\n",
            "\n",
            "\n",
            "2084.SR\n",
            "\n",
            "1\n",
            "\n",
            "11\n"
          ]
        },
        {
          "output_type": "stream",
          "name": "stderr",
          "text": [
            "[*********************100%***********************]  1 of 1 completed\n",
            "[*********************100%***********************]  1 of 1 completed"
          ]
        },
        {
          "output_type": "stream",
          "name": "stdout",
          "text": [
            "\n",
            "\n",
            "2090.SR\n",
            "\n",
            "12\n",
            "\n",
            "120\n"
          ]
        },
        {
          "output_type": "stream",
          "name": "stderr",
          "text": [
            "\n",
            "[*********************100%***********************]  1 of 1 completed"
          ]
        },
        {
          "output_type": "stream",
          "name": "stdout",
          "text": [
            "\n",
            "\n",
            "2100.SR\n",
            "\n",
            "23\n",
            "\n",
            "194\n"
          ]
        },
        {
          "output_type": "stream",
          "name": "stderr",
          "text": [
            "\n"
          ]
        },
        {
          "output_type": "stream",
          "name": "stdout",
          "text": [
            "\n",
            "\n",
            "2110.SR\n",
            "\n",
            "17\n",
            "\n",
            "129\n"
          ]
        },
        {
          "output_type": "stream",
          "name": "stderr",
          "text": [
            "[*********************100%***********************]  1 of 1 completed\n",
            "[*********************100%***********************]  1 of 1 completed"
          ]
        },
        {
          "output_type": "stream",
          "name": "stdout",
          "text": [
            "\n",
            "\n",
            "2120.SR\n",
            "\n",
            "20\n",
            "\n",
            "160\n"
          ]
        },
        {
          "output_type": "stream",
          "name": "stderr",
          "text": [
            "\n",
            "[*********************100%***********************]  1 of 1 completed"
          ]
        },
        {
          "output_type": "stream",
          "name": "stdout",
          "text": [
            "\n",
            "\n",
            "2130.SR\n",
            "\n",
            "22\n",
            "\n",
            "152\n"
          ]
        },
        {
          "output_type": "stream",
          "name": "stderr",
          "text": [
            "\n"
          ]
        },
        {
          "output_type": "stream",
          "name": "stdout",
          "text": [
            "\n",
            "\n",
            "2140.SR\n",
            "\n",
            "22\n",
            "\n",
            "136\n"
          ]
        },
        {
          "output_type": "stream",
          "name": "stderr",
          "text": [
            "\r[*********************100%***********************]  1 of 1 completed\n"
          ]
        },
        {
          "output_type": "stream",
          "name": "stdout",
          "text": [
            "\n",
            "\n",
            "2150.SR\n",
            "\n",
            "14\n",
            "\n",
            "120\n"
          ]
        },
        {
          "output_type": "stream",
          "name": "stderr",
          "text": [
            "\r[*********************100%***********************]  1 of 1 completed\n"
          ]
        },
        {
          "output_type": "stream",
          "name": "stdout",
          "text": [
            "\n",
            "\n",
            "2160.SR\n",
            "\n",
            "18\n",
            "\n",
            "144\n"
          ]
        },
        {
          "output_type": "stream",
          "name": "stderr",
          "text": [
            "\r[*********************100%***********************]  1 of 1 completed\n"
          ]
        },
        {
          "output_type": "stream",
          "name": "stdout",
          "text": [
            "\n",
            "\n",
            "2170.SR\n",
            "\n",
            "20\n",
            "\n",
            "166\n"
          ]
        },
        {
          "output_type": "stream",
          "name": "stderr",
          "text": [
            "\r[*********************100%***********************]  1 of 1 completed\n"
          ]
        },
        {
          "output_type": "stream",
          "name": "stdout",
          "text": [
            "\n",
            "\n",
            "2180.SR\n",
            "\n",
            "19\n",
            "\n",
            "141\n"
          ]
        },
        {
          "output_type": "stream",
          "name": "stderr",
          "text": [
            "\r[*********************100%***********************]  1 of 1 completed\n"
          ]
        },
        {
          "output_type": "stream",
          "name": "stdout",
          "text": [
            "\n",
            "\n",
            "2190.SR\n",
            "\n",
            "25\n",
            "\n",
            "139\n"
          ]
        },
        {
          "output_type": "stream",
          "name": "stderr",
          "text": [
            "[*********************100%***********************]  1 of 1 completed\n",
            "[*********************100%***********************]  1 of 1 completed"
          ]
        },
        {
          "output_type": "stream",
          "name": "stdout",
          "text": [
            "\n",
            "\n",
            "2200.SR\n",
            "\n",
            "20\n",
            "\n",
            "170\n"
          ]
        },
        {
          "output_type": "stream",
          "name": "stderr",
          "text": [
            "\n"
          ]
        },
        {
          "output_type": "stream",
          "name": "stdout",
          "text": [
            "\n",
            "\n",
            "2210.SR\n",
            "\n",
            "21\n",
            "\n",
            "168\n"
          ]
        },
        {
          "output_type": "stream",
          "name": "stderr",
          "text": [
            "[*********************100%***********************]  1 of 1 completed\n",
            "[*********************100%***********************]  1 of 1 completed"
          ]
        },
        {
          "output_type": "stream",
          "name": "stdout",
          "text": [
            "\n",
            "\n",
            "2220.SR\n",
            "\n",
            "26\n",
            "\n",
            "147\n"
          ]
        },
        {
          "output_type": "stream",
          "name": "stderr",
          "text": [
            "\n",
            "\r[*********************100%***********************]  1 of 1 completed\n"
          ]
        },
        {
          "output_type": "stream",
          "name": "stdout",
          "text": [
            "\n",
            "\n",
            "2222.SR\n",
            "\n",
            "2\n",
            "\n",
            "5\n",
            "\n",
            "\n",
            "2223.SR\n",
            "\n",
            "1\n",
            "\n",
            "11\n"
          ]
        },
        {
          "output_type": "stream",
          "name": "stderr",
          "text": [
            "[*********************100%***********************]  1 of 1 completed\n",
            "[*********************100%***********************]  1 of 1 completed"
          ]
        },
        {
          "output_type": "stream",
          "name": "stdout",
          "text": [
            "\n",
            "\n",
            "2230.SR\n",
            "\n",
            "17\n",
            "\n",
            "100\n"
          ]
        },
        {
          "output_type": "stream",
          "name": "stderr",
          "text": [
            "\n"
          ]
        },
        {
          "output_type": "stream",
          "name": "stdout",
          "text": [
            "\n",
            "\n",
            "2240.SR\n",
            "\n",
            "13\n",
            "\n",
            "126\n"
          ]
        },
        {
          "output_type": "stream",
          "name": "stderr",
          "text": [
            "[*********************100%***********************]  1 of 1 completed\n",
            "[*********************100%***********************]  1 of 1 completed"
          ]
        },
        {
          "output_type": "stream",
          "name": "stdout",
          "text": [
            "\n",
            "\n",
            "2250.SR\n",
            "\n",
            "21\n",
            "\n",
            "141\n"
          ]
        },
        {
          "output_type": "stream",
          "name": "stderr",
          "text": [
            "\n"
          ]
        },
        {
          "output_type": "stream",
          "name": "stdout",
          "text": [
            "\n",
            "\n",
            "2270.SR\n",
            "\n",
            "16\n",
            "\n",
            "114\n"
          ]
        },
        {
          "output_type": "stream",
          "name": "stderr",
          "text": [
            "[*********************100%***********************]  1 of 1 completed\n",
            "[*********************100%***********************]  1 of 1 completed"
          ]
        },
        {
          "output_type": "stream",
          "name": "stdout",
          "text": [
            "\n",
            "\n",
            "2280.SR\n",
            "\n",
            "8\n",
            "\n",
            "65\n"
          ]
        },
        {
          "output_type": "stream",
          "name": "stderr",
          "text": [
            "\n",
            "[*********************100%***********************]  1 of 1 completed"
          ]
        },
        {
          "output_type": "stream",
          "name": "stdout",
          "text": [
            "\n",
            "\n",
            "2281.SR\n",
            "\n",
            "2\n",
            "\n",
            "42\n"
          ]
        },
        {
          "output_type": "stream",
          "name": "stderr",
          "text": [
            "\n",
            "[*********************100%***********************]  1 of 1 completed"
          ]
        },
        {
          "output_type": "stream",
          "name": "stdout",
          "text": [
            "\n",
            "\n",
            "2282.SR\n",
            "\n",
            "2\n",
            "\n",
            "13\n",
            "\n",
            "\n",
            "2283.SR\n",
            "\n",
            "2\n",
            "\n",
            "8\n"
          ]
        },
        {
          "output_type": "stream",
          "name": "stderr",
          "text": [
            "\n",
            "[*********************100%***********************]  1 of 1 completed\n",
            "[*********************100%***********************]  1 of 1 completed\n"
          ]
        },
        {
          "output_type": "stream",
          "name": "stdout",
          "text": [
            "\n",
            "\n",
            "2284.SR\n",
            "\n",
            "0\n",
            "\n",
            "4\n",
            "\n",
            "\n",
            "2285.SR\n",
            "\n",
            "0.0\n",
            "\n",
            "0.0\n"
          ]
        },
        {
          "output_type": "stream",
          "name": "stderr",
          "text": [
            "[*********************100%***********************]  1 of 1 completed\n",
            "[*********************100%***********************]  1 of 1 completed"
          ]
        },
        {
          "output_type": "stream",
          "name": "stdout",
          "text": [
            "\n",
            "\n",
            "2286.SR\n",
            "\n",
            "0.0\n",
            "\n",
            "0.0\n"
          ]
        },
        {
          "output_type": "stream",
          "name": "stderr",
          "text": [
            "\n"
          ]
        },
        {
          "output_type": "stream",
          "name": "stdout",
          "text": [
            "\n",
            "\n",
            "2290.SR\n",
            "\n",
            "14\n",
            "\n",
            "85\n"
          ]
        },
        {
          "output_type": "stream",
          "name": "stderr",
          "text": [
            "\r[*********************100%***********************]  1 of 1 completed\n"
          ]
        },
        {
          "output_type": "stream",
          "name": "stdout",
          "text": [
            "\n",
            "\n",
            "2300.SR\n",
            "\n",
            "26\n",
            "\n",
            "169\n"
          ]
        },
        {
          "output_type": "stream",
          "name": "stderr",
          "text": [
            "\r[*********************100%***********************]  1 of 1 completed\n"
          ]
        },
        {
          "output_type": "stream",
          "name": "stdout",
          "text": [
            "\n",
            "\n",
            "2310.SR\n",
            "\n",
            "21\n",
            "\n",
            "119\n"
          ]
        },
        {
          "output_type": "stream",
          "name": "stderr",
          "text": [
            "\r[*********************100%***********************]  1 of 1 completed\n"
          ]
        },
        {
          "output_type": "stream",
          "name": "stdout",
          "text": [
            "\n",
            "\n",
            "2320.SR\n",
            "\n",
            "21\n",
            "\n",
            "124\n"
          ]
        },
        {
          "output_type": "stream",
          "name": "stderr",
          "text": [
            "\r[*********************100%***********************]  1 of 1 completed\n"
          ]
        },
        {
          "output_type": "stream",
          "name": "stdout",
          "text": [
            "\n",
            "\n",
            "2330.SR\n",
            "\n",
            "13\n",
            "\n",
            "90\n"
          ]
        },
        {
          "output_type": "stream",
          "name": "stderr",
          "text": [
            "[*********************100%***********************]  1 of 1 completed\n",
            "[*********************100%***********************]  1 of 1 completed"
          ]
        },
        {
          "output_type": "stream",
          "name": "stdout",
          "text": [
            "\n",
            "\n",
            "2340.SR\n",
            "\n",
            "21\n",
            "\n",
            "90\n"
          ]
        },
        {
          "output_type": "stream",
          "name": "stderr",
          "text": [
            "\n",
            "[*********************100%***********************]  1 of 1 completed"
          ]
        },
        {
          "output_type": "stream",
          "name": "stdout",
          "text": [
            "\n",
            "\n",
            "2350.SR\n",
            "\n",
            "14\n",
            "\n",
            "131\n"
          ]
        },
        {
          "output_type": "stream",
          "name": "stderr",
          "text": [
            "\n",
            "[*********************100%***********************]  1 of 1 completed"
          ]
        },
        {
          "output_type": "stream",
          "name": "stdout",
          "text": [
            "\n",
            "\n",
            "2360.SR\n",
            "\n",
            "15\n",
            "\n",
            "130\n"
          ]
        },
        {
          "output_type": "stream",
          "name": "stderr",
          "text": [
            "\n",
            "[*********************100%***********************]  1 of 1 completed"
          ]
        },
        {
          "output_type": "stream",
          "name": "stdout",
          "text": [
            "\n",
            "\n",
            "2370.SR\n",
            "\n",
            "18\n",
            "\n",
            "190\n"
          ]
        },
        {
          "output_type": "stream",
          "name": "stderr",
          "text": [
            "\n",
            "[*********************100%***********************]  1 of 1 completed"
          ]
        },
        {
          "output_type": "stream",
          "name": "stdout",
          "text": [
            "\n",
            "\n",
            "2380.SR\n",
            "\n",
            "19\n",
            "\n",
            "138\n"
          ]
        },
        {
          "output_type": "stream",
          "name": "stderr",
          "text": [
            "\n",
            "\r[*********************100%***********************]  1 of 1 completed\n"
          ]
        },
        {
          "output_type": "stream",
          "name": "stdout",
          "text": [
            "\n",
            "\n",
            "2381.SR\n",
            "\n",
            "2\n",
            "\n",
            "22\n",
            "\n",
            "\n",
            "2382.SR\n",
            "\n",
            "1\n",
            "\n",
            "11\n"
          ]
        },
        {
          "output_type": "stream",
          "name": "stderr",
          "text": [
            "[*********************100%***********************]  1 of 1 completed\n",
            "[*********************100%***********************]  1 of 1 completed"
          ]
        },
        {
          "output_type": "stream",
          "name": "stdout",
          "text": [
            "\n",
            "\n",
            "3002.SR\n",
            "\n",
            "11\n",
            "\n",
            "72\n"
          ]
        },
        {
          "output_type": "stream",
          "name": "stderr",
          "text": [
            "\n",
            "[*********************100%***********************]  1 of 1 completed"
          ]
        },
        {
          "output_type": "stream",
          "name": "stdout",
          "text": [
            "\n",
            "\n",
            "3003.SR\n",
            "\n",
            "11\n",
            "\n",
            "76\n"
          ]
        },
        {
          "output_type": "stream",
          "name": "stderr",
          "text": [
            "\n",
            "[*********************100%***********************]  1 of 1 completed"
          ]
        },
        {
          "output_type": "stream",
          "name": "stdout",
          "text": [
            "\n",
            "\n",
            "3004.SR\n",
            "\n",
            "5\n",
            "\n",
            "48\n"
          ]
        },
        {
          "output_type": "stream",
          "name": "stderr",
          "text": [
            "\n",
            "[*********************100%***********************]  1 of 1 completed"
          ]
        },
        {
          "output_type": "stream",
          "name": "stdout",
          "text": [
            "\n",
            "\n",
            "3005.SR\n",
            "\n",
            "7\n",
            "\n",
            "54\n"
          ]
        },
        {
          "output_type": "stream",
          "name": "stderr",
          "text": [
            "\n",
            "[*********************100%***********************]  1 of 1 completed\n"
          ]
        },
        {
          "output_type": "stream",
          "name": "stdout",
          "text": [
            "\n",
            "\n",
            "3007.SR\n",
            "\n",
            "7\n",
            "\n",
            "56\n",
            "\n",
            "\n",
            "3008.SR\n",
            "\n",
            "9\n",
            "\n",
            "51\n"
          ]
        },
        {
          "output_type": "stream",
          "name": "stderr",
          "text": [
            "\r[*********************100%***********************]  1 of 1 completed\n"
          ]
        },
        {
          "output_type": "stream",
          "name": "stdout",
          "text": [
            "\n",
            "\n",
            "3010.SR\n",
            "\n",
            "14\n",
            "\n",
            "80\n"
          ]
        },
        {
          "output_type": "stream",
          "name": "stderr",
          "text": [
            "\r[*********************100%***********************]  1 of 1 completed\n"
          ]
        },
        {
          "output_type": "stream",
          "name": "stdout",
          "text": [
            "\n",
            "\n",
            "3020.SR\n",
            "\n",
            "13\n",
            "\n",
            "69\n"
          ]
        },
        {
          "output_type": "stream",
          "name": "stderr",
          "text": [
            "\r[*********************100%***********************]  1 of 1 completed\n"
          ]
        },
        {
          "output_type": "stream",
          "name": "stdout",
          "text": [
            "\n",
            "\n",
            "3030.SR\n",
            "\n",
            "12\n",
            "\n",
            "55\n"
          ]
        },
        {
          "output_type": "stream",
          "name": "stderr",
          "text": [
            "[*********************100%***********************]  1 of 1 completed\n",
            "[*********************100%***********************]  1 of 1 completed"
          ]
        },
        {
          "output_type": "stream",
          "name": "stdout",
          "text": [
            "\n",
            "\n",
            "3040.SR\n",
            "\n",
            "8\n",
            "\n",
            "40\n"
          ]
        },
        {
          "output_type": "stream",
          "name": "stderr",
          "text": [
            "\n"
          ]
        },
        {
          "output_type": "stream",
          "name": "stdout",
          "text": [
            "\n",
            "\n",
            "3050.SR\n",
            "\n",
            "10\n",
            "\n",
            "58\n"
          ]
        },
        {
          "output_type": "stream",
          "name": "stderr",
          "text": [
            "\r[*********************100%***********************]  1 of 1 completed\n"
          ]
        },
        {
          "output_type": "stream",
          "name": "stdout",
          "text": [
            "\n",
            "\n",
            "3060.SR\n",
            "\n",
            "17\n",
            "\n",
            "80\n"
          ]
        },
        {
          "output_type": "stream",
          "name": "stderr",
          "text": [
            "\r[*********************100%***********************]  1 of 1 completed"
          ]
        },
        {
          "output_type": "stream",
          "name": "stdout",
          "text": [
            "\n",
            "\n",
            "3080.SR\n",
            "\n",
            "10\n",
            "\n",
            "53\n"
          ]
        },
        {
          "output_type": "stream",
          "name": "stderr",
          "text": [
            "\n"
          ]
        }
      ]
    },
    {
      "cell_type": "code",
      "source": [],
      "metadata": {
        "id": "RBTVV26bioiq"
      },
      "execution_count": null,
      "outputs": []
    }
  ]
}