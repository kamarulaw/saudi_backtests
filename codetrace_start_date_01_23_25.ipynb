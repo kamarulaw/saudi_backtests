{
  "nbformat": 4,
  "nbformat_minor": 0,
  "metadata": {
    "colab": {
      "provenance": []
    },
    "kernelspec": {
      "name": "python3",
      "display_name": "Python 3"
    },
    "language_info": {
      "name": "python"
    }
  },
  "cells": [
    {
      "cell_type": "code",
      "source": [
        "%%capture\n",
        "!pip install yfinance\n",
        "import numpy as np\n",
        "import pandas as pd\n",
        "import yfinance as yf"
      ],
      "metadata": {
        "id": "GoGJLmytTh1Q"
      },
      "execution_count": 60,
      "outputs": []
    },
    {
      "cell_type": "code",
      "source": [
        "# Al Rajhi Banking and Investment Corporation (1120.SR)\n",
        "ticker = \"1120.SR\"\n",
        "data = yf.download(ticker, start=\"2010-01-01\", end=\"2025-01-24\")"
      ],
      "metadata": {
        "colab": {
          "base_uri": "https://localhost:8080/"
        },
        "id": "94iCz9FRGnk4",
        "outputId": "3aa1720d-629d-4186-9bbe-c4b0492cf37c"
      },
      "execution_count": 61,
      "outputs": [
        {
          "output_type": "stream",
          "name": "stderr",
          "text": [
            "\r[*********************100%***********************]  1 of 1 completed\n"
          ]
        }
      ]
    },
    {
      "cell_type": "code",
      "source": [
        "# Find the lowest price for the stock over the last week\n",
        "data[\"prv_low_1\"] = data[\"Low\"].shift(1)\n",
        "data[\"prv_low_2\"] = data[\"Low\"].shift(2)\n",
        "data[\"prv_low_3\"] = data[\"Low\"].shift(3)\n",
        "data[\"prv_low_4\"] = data[\"Low\"].shift(4)\n",
        "data[\"prv_low_5\"] = data[\"Low\"].shift(5)\n",
        "data[\"Low_Last_5d\"] = data[[\"prv_low_1\", \"prv_low_2\",\"prv_low_3\",\"prv_low_4\",\"prv_low_5\"]].values.min(1)\n",
        "data = data.drop([\"prv_low_1\", \"prv_low_2\", \"prv_low_3\", \"prv_low_4\", \"prv_low_5\"], axis=1)"
      ],
      "metadata": {
        "id": "SVofN9DNGoGg"
      },
      "execution_count": 62,
      "outputs": []
    },
    {
      "cell_type": "code",
      "source": [
        "# Find the highest price for the stock over the last week\n",
        "data['prv_high_1'] = data[\"High\"].shift(1)\n",
        "data['prv_high_2'] = data[\"High\"].shift(2)\n",
        "data['prv_high_3'] = data[\"High\"].shift(3)\n",
        "data['prv_high_4'] = data[\"High\"].shift(4)\n",
        "data['prv_high_5'] = data[\"High\"].shift(5)\n",
        "data[\"High_Last_5d\"] = data[[\"prv_high_1\", \"prv_high_2\",\"prv_high_3\",\"prv_high_4\",\"prv_high_5\"]].values.max(1)\n",
        "data = data.drop([\"prv_high_1\", \"prv_high_2\", \"prv_high_3\", \"prv_high_4\", \"prv_high_5\"], axis=1)\n"
      ],
      "metadata": {
        "id": "8tIQQY-XSqDJ"
      },
      "execution_count": 63,
      "outputs": []
    },
    {
      "cell_type": "code",
      "source": [
        "# Create boolean variable marking whether stock dropped at least seven percent in the last week (five days)\n",
        "data[\"seven_percent_of_close_price\"] = .93*data[\"Close\"]\n",
        "data[\"Close\"] = 1*data[\"Close\"]\n",
        "data[\"seven_percent_of_close_price_within_last_five_days\"] = np.where((data['Low_Last_5d'] <= data['seven_percent_of_close_price']) & (data['seven_percent_of_close_price'] <= data['High_Last_5d']), True, False)"
      ],
      "metadata": {
        "id": "RVq35IJuHKsw"
      },
      "execution_count": 64,
      "outputs": []
    },
    {
      "cell_type": "code",
      "source": [
        "# Create boolean variable marking whether current close price is greater than yesterdays close price\n",
        "data[\"Last_Close\"] = data[\"Close\"].shift(1)\n",
        "data[\"close_diff\"] = data[\"Close\"].values.reshape(data.shape[0]) - data[\"Last_Close\"].values.reshape(data.shape[0])\n",
        "data[\"up_from_yesterday\"] = np.where((data[\"close_diff\"] > 0), True, False)"
      ],
      "metadata": {
        "id": "z_L4e_0pS_Hy"
      },
      "execution_count": 65,
      "outputs": []
    },
    {
      "cell_type": "code",
      "source": [
        "# Buy stock if price dropped at least seven percent in last week and current close price is greater than yesterdays close price\n",
        "data[\"buy\"] = data[\"seven_percent_of_close_price_within_last_five_days\"] & data[\"up_from_yesterday\"]\n",
        "data[\"buycumsum\"] = data[\"buy\"].cumsum().astype('int64')\n",
        "data = data.drop([\"Last_Close\",\"close_diff\",\"seven_percent_of_close_price\"], axis=1)"
      ],
      "metadata": {
        "id": "N7EqkEUIIOBg"
      },
      "execution_count": 66,
      "outputs": []
    },
    {
      "cell_type": "code",
      "source": [
        "data[\"Close_up1%\"] = 1.01*data[\"Close\"]\n",
        "data[\"Close_down1%\"] = .99*data[\"Close\"]\n",
        "data.loc[(data.buy == False), 'Close_up1%'] = np.nan\n",
        "data.loc[(data.buy == False), 'Close_down1%'] = np.nan\n",
        "data[\"Close_up1%\"] = data[\"Close_up1%\"].ffill()\n",
        "data[\"Close_down1%\"] = data[\"Close_down1%\"].ffill()\n",
        "data = data.drop([\"Low_Last_5d\", \"High_Last_5d\", \"seven_percent_of_close_price_within_last_five_days\", \"up_from_yesterday\", \"High\", \"Low\"], axis=1)\n",
        "data[\"close_up_diff\"] = data[\"Close\"].values.reshape(data.shape[0]) - data[\"Close_up1%\"].values.reshape(data.shape[0])\n",
        "data[\"closeaboveup1%\"] = np.where((data[\"close_up_diff\"] > 0), True, False)\n",
        "data[\"close_down_diff\"] = data[\"Close\"].values.reshape(data.shape[0]) - data[\"Close_down1%\"].values.reshape(data.shape[0])\n",
        "data[\"closebelowdown1%\"] = np.where((data[\"close_down_diff\"] < 0), True, False)\n",
        "data = data.drop([\"close_up_diff\", \"close_down_diff\"], axis=1)"
      ],
      "metadata": {
        "id": "gXOJXvDKTGu3"
      },
      "execution_count": 67,
      "outputs": []
    },
    {
      "cell_type": "code",
      "source": [
        "data[\"aboveup1%_or_belowdown1%\"] = np.where((data[\"closeaboveup1%\"]) | (data[\"closebelowdown1%\"]), True, False)\n",
        "data = data.loc[(data.buycumsum >= 1) & (data.buy == False) & (data[\"aboveup1%_or_belowdown1%\"] == True)]"
      ],
      "metadata": {
        "id": "4ruUup0zTQKn"
      },
      "execution_count": 68,
      "outputs": []
    },
    {
      "cell_type": "code",
      "source": [
        "data.to_csv('out.csv', index=False)\n",
        "data = pd.read_csv('out.csv')\n",
        "data = data.drop_duplicates(subset=\"buycumsum\",inplace=False)\n",
        "print(\"\\n\\n\"+str(data[\"closeaboveup1%\"].sum()))\n",
        "print(\"\\n\"+str(data[\"closebelowdown1%\"].sum()))"
      ],
      "metadata": {
        "colab": {
          "base_uri": "https://localhost:8080/"
        },
        "id": "HBofSxj3TYbQ",
        "outputId": "63dc71ec-fb76-4674-ffdb-6c83fae7570e"
      },
      "execution_count": 69,
      "outputs": [
        {
          "output_type": "stream",
          "name": "stdout",
          "text": [
            "\n",
            "\n",
            "19\n",
            "\n",
            "57\n"
          ]
        }
      ]
    },
    {
      "cell_type": "code",
      "source": [],
      "metadata": {
        "id": "1VbEwrgEJAUf"
      },
      "execution_count": null,
      "outputs": []
    }
  ]
}